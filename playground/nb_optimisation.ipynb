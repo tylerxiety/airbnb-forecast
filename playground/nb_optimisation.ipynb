{
 "cells": [
  {
   "cell_type": "code",
   "execution_count": 1,
   "metadata": {
    "collapsed": true
   },
   "outputs": [],
   "source": [
    "import pandas as pd\n",
    "import numpy as np\n",
    "from src.func_model_api import *\n",
    "#from src.func_optimiser import *\n",
    "#from playground.tyler.src.utilities import *\n",
    "pd.options.mode.chained_assignment = None\n",
    "%matplotlib inline\n",
    "\n",
    "%load_ext autoreload\n",
    "%autoreload\n",
    "%cd C:\\Users\\tyler\\repos\\airbnb-forecast"
   ]
  },
  {
   "cell_type": "markdown",
   "source": [
    "# 1. Optimisation Experiment: Brute Force"
   ],
   "metadata": {
    "collapsed": false,
    "pycharm": {
     "name": "#%% md\n"
    }
   }
  },
  {
   "cell_type": "code",
   "execution_count": 5,
   "outputs": [
    {
     "data": {
      "text/plain": "      ID YEAR_MONTH PROPERTY_TYPE        ROOM_TYPE  ACCOMMODATES  BATHROOMS  \\\n0   9835    2020-06         house     private room             2        1.0   \n1  10803    2020-06     apartment     private room             2        1.0   \n2  12936    2020-06     apartment  entire home/apt             2        1.0   \n3  38271    2020-06     apartment  entire home/apt             5        1.0   \n4  41836    2020-06         house     private room             2        1.0   \n\n   BEDROOMS  BEDS  BED_TYPE  SQUARE_FEET  ...  REVIEW_SCORES_COMMUNICATION  \\\n0       1.0   2.0  real bed          NaN  ...                         10.0   \n1       1.0   2.0     futon        226.0  ...                         10.0   \n2       1.0   1.0  real bed          0.0  ...                         10.0   \n3       3.0   3.0  real bed          NaN  ...                         10.0   \n4       1.0   1.0  real bed          NaN  ...                          9.0   \n\n   REVIEW_SCORES_LOCATION REVIEW_SCORES_VALUE  REVIEWS_PER_MONTH  \\\n0                     9.0                 9.0               0.04   \n1                    10.0                10.0               1.61   \n2                    10.0                 9.0               0.35   \n3                    10.0                10.0               1.28   \n4                     9.0                 9.0               1.38   \n\n   NEIGHBOURHOOD_CLEANSED  IS_LOCATION_EXACT  TXN_PRICE  SECURITY_DEPOSIT  \\\n0              Manningham                  0       60.0               NaN   \n1                Moreland                  1       31.0               0.0   \n2            Port Phillip                  1       95.0             450.0   \n3                   Casey                  1       99.0               0.0   \n4                 Darebin                  1       40.0               NaN   \n\n  CLEANING_FEE  EXTRA_PEOPLE  \n0          NaN          22.0  \n1         14.0          15.0  \n2        100.0           0.0  \n3          0.0          30.0  \n4         10.0          20.0  \n\n[5 rows x 41 columns]",
      "text/html": "<div>\n<style scoped>\n    .dataframe tbody tr th:only-of-type {\n        vertical-align: middle;\n    }\n\n    .dataframe tbody tr th {\n        vertical-align: top;\n    }\n\n    .dataframe thead th {\n        text-align: right;\n    }\n</style>\n<table border=\"1\" class=\"dataframe\">\n  <thead>\n    <tr style=\"text-align: right;\">\n      <th></th>\n      <th>ID</th>\n      <th>YEAR_MONTH</th>\n      <th>PROPERTY_TYPE</th>\n      <th>ROOM_TYPE</th>\n      <th>ACCOMMODATES</th>\n      <th>BATHROOMS</th>\n      <th>BEDROOMS</th>\n      <th>BEDS</th>\n      <th>BED_TYPE</th>\n      <th>SQUARE_FEET</th>\n      <th>...</th>\n      <th>REVIEW_SCORES_COMMUNICATION</th>\n      <th>REVIEW_SCORES_LOCATION</th>\n      <th>REVIEW_SCORES_VALUE</th>\n      <th>REVIEWS_PER_MONTH</th>\n      <th>NEIGHBOURHOOD_CLEANSED</th>\n      <th>IS_LOCATION_EXACT</th>\n      <th>TXN_PRICE</th>\n      <th>SECURITY_DEPOSIT</th>\n      <th>CLEANING_FEE</th>\n      <th>EXTRA_PEOPLE</th>\n    </tr>\n  </thead>\n  <tbody>\n    <tr>\n      <th>0</th>\n      <td>9835</td>\n      <td>2020-06</td>\n      <td>house</td>\n      <td>private room</td>\n      <td>2</td>\n      <td>1.0</td>\n      <td>1.0</td>\n      <td>2.0</td>\n      <td>real bed</td>\n      <td>NaN</td>\n      <td>...</td>\n      <td>10.0</td>\n      <td>9.0</td>\n      <td>9.0</td>\n      <td>0.04</td>\n      <td>Manningham</td>\n      <td>0</td>\n      <td>60.0</td>\n      <td>NaN</td>\n      <td>NaN</td>\n      <td>22.0</td>\n    </tr>\n    <tr>\n      <th>1</th>\n      <td>10803</td>\n      <td>2020-06</td>\n      <td>apartment</td>\n      <td>private room</td>\n      <td>2</td>\n      <td>1.0</td>\n      <td>1.0</td>\n      <td>2.0</td>\n      <td>futon</td>\n      <td>226.0</td>\n      <td>...</td>\n      <td>10.0</td>\n      <td>10.0</td>\n      <td>10.0</td>\n      <td>1.61</td>\n      <td>Moreland</td>\n      <td>1</td>\n      <td>31.0</td>\n      <td>0.0</td>\n      <td>14.0</td>\n      <td>15.0</td>\n    </tr>\n    <tr>\n      <th>2</th>\n      <td>12936</td>\n      <td>2020-06</td>\n      <td>apartment</td>\n      <td>entire home/apt</td>\n      <td>2</td>\n      <td>1.0</td>\n      <td>1.0</td>\n      <td>1.0</td>\n      <td>real bed</td>\n      <td>0.0</td>\n      <td>...</td>\n      <td>10.0</td>\n      <td>10.0</td>\n      <td>9.0</td>\n      <td>0.35</td>\n      <td>Port Phillip</td>\n      <td>1</td>\n      <td>95.0</td>\n      <td>450.0</td>\n      <td>100.0</td>\n      <td>0.0</td>\n    </tr>\n    <tr>\n      <th>3</th>\n      <td>38271</td>\n      <td>2020-06</td>\n      <td>apartment</td>\n      <td>entire home/apt</td>\n      <td>5</td>\n      <td>1.0</td>\n      <td>3.0</td>\n      <td>3.0</td>\n      <td>real bed</td>\n      <td>NaN</td>\n      <td>...</td>\n      <td>10.0</td>\n      <td>10.0</td>\n      <td>10.0</td>\n      <td>1.28</td>\n      <td>Casey</td>\n      <td>1</td>\n      <td>99.0</td>\n      <td>0.0</td>\n      <td>0.0</td>\n      <td>30.0</td>\n    </tr>\n    <tr>\n      <th>4</th>\n      <td>41836</td>\n      <td>2020-06</td>\n      <td>house</td>\n      <td>private room</td>\n      <td>2</td>\n      <td>1.0</td>\n      <td>1.0</td>\n      <td>1.0</td>\n      <td>real bed</td>\n      <td>NaN</td>\n      <td>...</td>\n      <td>9.0</td>\n      <td>9.0</td>\n      <td>9.0</td>\n      <td>1.38</td>\n      <td>Darebin</td>\n      <td>1</td>\n      <td>40.0</td>\n      <td>NaN</td>\n      <td>10.0</td>\n      <td>20.0</td>\n    </tr>\n  </tbody>\n</table>\n<p>5 rows × 41 columns</p>\n</div>"
     },
     "execution_count": 5,
     "metadata": {},
     "output_type": "execute_result"
    }
   ],
   "source": [
    "df_test = pd.read_csv('data/test_jun20.csv', low_memory=False)\n",
    "\n",
    "col_list = [\n",
    "    # list\n",
    "    'ID', 'YEAR_MONTH', 'PROPERTY_TYPE', 'ROOM_TYPE', 'ACCOMMODATES'\n",
    "    , 'BATHROOMS', 'BEDROOMS', 'BEDS', 'BED_TYPE', 'SQUARE_FEET'\n",
    "    , 'INSTANT_BOOKABLE', 'GUESTS_INCLUDED', 'CANCELLATION_POLICY'\n",
    "    , 'REQUIRE_GUEST_PROFILE_PICTURE', 'REQUIRE_GUEST_PHONE_VERIFICATION'\n",
    "    # cal\n",
    "    , 'AVG_MINIMUM_NIGHTS', 'AVG_MAXIMUM_NIGHTS'\n",
    "    # host\n",
    "    , 'HOST_RESPONSE_RATE','HOST_SINCE'\n",
    "    , 'HOST_ACCEPTANCE_RATE', 'HOST_IS_SUPERHOST', 'HOST_LISTINGS_COUNT'\n",
    "    , 'HOST_HAS_PROFILE_PIC', 'HOST_IDENTITY_VERIFIED'\n",
    "    # review\n",
    "    , 'NUMBER_OF_REVIEWS','FIRST_REVIEW','LAST_REVIEW'\n",
    "    , 'REVIEW_SCORES_RATING', 'REVIEW_SCORES_ACCURACY'\n",
    "    , 'REVIEW_SCORES_CLEANLINESS', 'REVIEW_SCORES_CHECKIN'\n",
    "    , 'REVIEW_SCORES_COMMUNICATION', 'REVIEW_SCORES_LOCATION'\n",
    "    , 'REVIEW_SCORES_VALUE', 'REVIEWS_PER_MONTH'\n",
    "    # location\n",
    "    , 'NEIGHBOURHOOD_CLEANSED', 'IS_LOCATION_EXACT'\n",
    "    # , 'LATITUDE', 'LONGITUDE'\n",
    "    # price\n",
    "    , 'TXN_PRICE', 'SECURITY_DEPOSIT', 'CLEANING_FEE', 'EXTRA_PEOPLE'\n",
    "    ]\n",
    "\n",
    "df_test = df_test[col_list]\n",
    "df_test.head()"
   ],
   "metadata": {
    "collapsed": false,
    "pycharm": {
     "name": "#%%\n"
    }
   }
  }
 ],
 "metadata": {
  "kernelspec": {
   "name": "conda-root-py",
   "language": "python",
   "display_name": "Python [conda env:root] *"
  },
  "language_info": {
   "codemirror_mode": {
    "name": "ipython",
    "version": 2
   },
   "file_extension": ".py",
   "mimetype": "text/x-python",
   "name": "python",
   "nbconvert_exporter": "python",
   "pygments_lexer": "ipython2",
   "version": "2.7.6"
  }
 },
 "nbformat": 4,
 "nbformat_minor": 0
}