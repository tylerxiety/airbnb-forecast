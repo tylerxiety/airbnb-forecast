{
 "cells": [
  {
   "cell_type": "code",
   "execution_count": 179,
   "metadata": {
    "collapsed": true
   },
   "outputs": [
    {
     "name": "stdout",
     "output_type": "stream",
     "text": [
      "The autoreload extension is already loaded. To reload it, use:\n",
      "  %reload_ext autoreload\n",
      "C:\\Users\\tyler\\repos\\airbnb-forecast\n"
     ]
    }
   ],
   "source": [
    "import pandas as pd\n",
    "from src.func_data_engineering import *\n",
    "from src.func_model_api import *\n",
    "%load_ext autoreload\n",
    "%autoreload\n",
    "%cd C:\\Users\\tyler\\repos\\airbnb-forecast\n",
    "\n",
    "pd.set_option('display.max_columns', None)"
   ]
  },
  {
   "cell_type": "markdown",
   "source": [
    "# Model API testing"
   ],
   "metadata": {
    "collapsed": false,
    "pycharm": {
     "name": "#%% md\n"
    }
   }
  },
  {
   "cell_type": "code",
   "execution_count": null,
   "outputs": [],
   "source": [
    "# # get test data\n",
    "# engine = connect_my_db(\"secrets/db_string\")\n",
    "#\n",
    "# # read data\n",
    "# df_list = read_table(engine,'FS_LIST_RAW', 'last_scraped', date_start = '2020-06-01', date_end = '2020-06-30')\n",
    "#\n",
    "# df_cal = read_table(engine,'FS_CAL_RAW', 'DATE', date_start = '2020-06-01', date_end = '2020-06-30')\n",
    "#\n",
    "# # cleanse  data\n",
    "# df_list = cleanse_data(df_list)\n",
    "# df_cal = cleanse_data(df_cal, list_data=False)\n",
    "#\n",
    "# # aggregate calendar data to monthly\n",
    "# df_cal = agg_to_monthly(df_cal)\n",
    "#\n",
    "# df_test = df_cal.merge(df_list, on = ['ID', 'YEAR_MONTH'])\n",
    "# df_test.info()\n",
    "#\n",
    "# df_test.to_csv('data/test_jun20.csv', index=False)"
   ],
   "metadata": {
    "collapsed": false,
    "pycharm": {
     "name": "#%%\n"
    }
   }
  },
  {
   "cell_type": "code",
   "execution_count": null,
   "outputs": [],
   "source": [
    "# # get previous data for feature engineering\n",
    "# # read data\n",
    "# engine = connect_my_db(\"secrets/db_string\")\n",
    "# df_list_p = read_table(engine,'FS_LIST_RAW', 'last_scraped', date_start = '2020-03-01', date_end = '2020-05-30')\n",
    "#\n",
    "# df_cal_p = read_table(engine,'FS_CAL_RAW', 'DATE', date_start = '2020-03-01', date_end = '2020-05-30')\n",
    "#\n",
    "# # cleanse  data\n",
    "# df_list_p = cleanse_data(df_list_p)\n",
    "# df_cal_p = cleanse_data(df_cal_p, list_data=False)\n",
    "#\n",
    "# # aggregate calendar data to monthly\n",
    "# df_cal_p = agg_to_monthly(df_cal_p)\n",
    "#\n",
    "# df_p = df_cal_p.merge(df_list_p, on = ['ID', 'YEAR_MONTH'])\n",
    "# df_p.info()\n",
    "#\n",
    "# df_p.to_csv('data/test_mar_to_may20.csv', index=False)"
   ],
   "metadata": {
    "collapsed": false,
    "pycharm": {
     "name": "#%%\n"
    }
   }
  },
  {
   "cell_type": "code",
   "execution_count": null,
   "outputs": [],
   "source": [
    "#global_model_api(df_test.head())"
   ],
   "metadata": {
    "collapsed": false,
    "pycharm": {
     "name": "#%%\n"
    }
   }
  },
  {
   "cell_type": "code",
   "execution_count": 165,
   "outputs": [
    {
     "data": {
      "text/plain": "     ID YEAR_MONTH PROPERTY_TYPE     ROOM_TYPE  ACCOMMODATES  BATHROOMS  \\\n0  9835    2020-06         house  private room             2        1.0   \n\n   BEDROOMS  BEDS  BED_TYPE  SQUARE_FEET  INSTANT_BOOKABLE  GUESTS_INCLUDED  \\\n0       1.0   2.0  real bed          NaN                 0                1   \n\n           CANCELLATION_POLICY  REQUIRE_GUEST_PROFILE_PICTURE  \\\n0  strict_14_with_grace_period                              0   \n\n   REQUIRE_GUEST_PHONE_VERIFICATION  AVG_MINIMUM_NIGHTS  AVG_MAXIMUM_NIGHTS  \\\n0                                 0                 1.0               365.0   \n\n   HOST_RESPONSE_RATE  HOST_SINCE  HOST_ACCEPTANCE_RATE  HOST_IS_SUPERHOST  \\\n0                 NaN  2009-08-21                   0.0                0.0   \n\n   HOST_LISTINGS_COUNT  HOST_HAS_PROFILE_PIC  HOST_IDENTITY_VERIFIED  \\\n0                    1                   0.0                     0.0   \n\n   NUMBER_OF_REVIEWS FIRST_REVIEW LAST_REVIEW  REVIEW_SCORES_RATING  \\\n0                  4   2011-05-24  2015-09-12                  90.0   \n\n   REVIEW_SCORES_ACCURACY  REVIEW_SCORES_CLEANLINESS  REVIEW_SCORES_CHECKIN  \\\n0                     9.0                       10.0                   10.0   \n\n   REVIEW_SCORES_COMMUNICATION  REVIEW_SCORES_LOCATION  REVIEW_SCORES_VALUE  \\\n0                         10.0                     9.0                  9.0   \n\n   REVIEWS_PER_MONTH NEIGHBOURHOOD_CLEANSED  IS_LOCATION_EXACT  TXN_PRICE  \\\n0               0.04             Manningham                  0       60.0   \n\n   SECURITY_DEPOSIT  CLEANING_FEE  EXTRA_PEOPLE  \n0               NaN           NaN          22.0  ",
      "text/html": "<div>\n<style scoped>\n    .dataframe tbody tr th:only-of-type {\n        vertical-align: middle;\n    }\n\n    .dataframe tbody tr th {\n        vertical-align: top;\n    }\n\n    .dataframe thead th {\n        text-align: right;\n    }\n</style>\n<table border=\"1\" class=\"dataframe\">\n  <thead>\n    <tr style=\"text-align: right;\">\n      <th></th>\n      <th>ID</th>\n      <th>YEAR_MONTH</th>\n      <th>PROPERTY_TYPE</th>\n      <th>ROOM_TYPE</th>\n      <th>ACCOMMODATES</th>\n      <th>BATHROOMS</th>\n      <th>BEDROOMS</th>\n      <th>BEDS</th>\n      <th>BED_TYPE</th>\n      <th>SQUARE_FEET</th>\n      <th>INSTANT_BOOKABLE</th>\n      <th>GUESTS_INCLUDED</th>\n      <th>CANCELLATION_POLICY</th>\n      <th>REQUIRE_GUEST_PROFILE_PICTURE</th>\n      <th>REQUIRE_GUEST_PHONE_VERIFICATION</th>\n      <th>AVG_MINIMUM_NIGHTS</th>\n      <th>AVG_MAXIMUM_NIGHTS</th>\n      <th>HOST_RESPONSE_RATE</th>\n      <th>HOST_SINCE</th>\n      <th>HOST_ACCEPTANCE_RATE</th>\n      <th>HOST_IS_SUPERHOST</th>\n      <th>HOST_LISTINGS_COUNT</th>\n      <th>HOST_HAS_PROFILE_PIC</th>\n      <th>HOST_IDENTITY_VERIFIED</th>\n      <th>NUMBER_OF_REVIEWS</th>\n      <th>FIRST_REVIEW</th>\n      <th>LAST_REVIEW</th>\n      <th>REVIEW_SCORES_RATING</th>\n      <th>REVIEW_SCORES_ACCURACY</th>\n      <th>REVIEW_SCORES_CLEANLINESS</th>\n      <th>REVIEW_SCORES_CHECKIN</th>\n      <th>REVIEW_SCORES_COMMUNICATION</th>\n      <th>REVIEW_SCORES_LOCATION</th>\n      <th>REVIEW_SCORES_VALUE</th>\n      <th>REVIEWS_PER_MONTH</th>\n      <th>NEIGHBOURHOOD_CLEANSED</th>\n      <th>IS_LOCATION_EXACT</th>\n      <th>TXN_PRICE</th>\n      <th>SECURITY_DEPOSIT</th>\n      <th>CLEANING_FEE</th>\n      <th>EXTRA_PEOPLE</th>\n    </tr>\n  </thead>\n  <tbody>\n    <tr>\n      <th>0</th>\n      <td>9835</td>\n      <td>2020-06</td>\n      <td>house</td>\n      <td>private room</td>\n      <td>2</td>\n      <td>1.0</td>\n      <td>1.0</td>\n      <td>2.0</td>\n      <td>real bed</td>\n      <td>NaN</td>\n      <td>0</td>\n      <td>1</td>\n      <td>strict_14_with_grace_period</td>\n      <td>0</td>\n      <td>0</td>\n      <td>1.0</td>\n      <td>365.0</td>\n      <td>NaN</td>\n      <td>2009-08-21</td>\n      <td>0.0</td>\n      <td>0.0</td>\n      <td>1</td>\n      <td>0.0</td>\n      <td>0.0</td>\n      <td>4</td>\n      <td>2011-05-24</td>\n      <td>2015-09-12</td>\n      <td>90.0</td>\n      <td>9.0</td>\n      <td>10.0</td>\n      <td>10.0</td>\n      <td>10.0</td>\n      <td>9.0</td>\n      <td>9.0</td>\n      <td>0.04</td>\n      <td>Manningham</td>\n      <td>0</td>\n      <td>60.0</td>\n      <td>NaN</td>\n      <td>NaN</td>\n      <td>22.0</td>\n    </tr>\n  </tbody>\n</table>\n</div>"
     },
     "execution_count": 165,
     "metadata": {},
     "output_type": "execute_result"
    }
   ],
   "source": [
    "df_test = pd.read_csv('data/test_jun20.csv', low_memory=False)\n",
    "\n",
    "col_list = [\n",
    "    # list\n",
    "    'ID', 'YEAR_MONTH', 'PROPERTY_TYPE', 'ROOM_TYPE', 'ACCOMMODATES'\n",
    "    , 'BATHROOMS', 'BEDROOMS', 'BEDS', 'BED_TYPE', 'SQUARE_FEET'\n",
    "    , 'INSTANT_BOOKABLE', 'GUESTS_INCLUDED', 'CANCELLATION_POLICY'\n",
    "    , 'REQUIRE_GUEST_PROFILE_PICTURE', 'REQUIRE_GUEST_PHONE_VERIFICATION'\n",
    "    # cal\n",
    "    , 'AVG_MINIMUM_NIGHTS', 'AVG_MAXIMUM_NIGHTS'\n",
    "    # host\n",
    "    , 'HOST_RESPONSE_RATE','HOST_SINCE'\n",
    "    , 'HOST_ACCEPTANCE_RATE', 'HOST_IS_SUPERHOST', 'HOST_LISTINGS_COUNT'\n",
    "    , 'HOST_HAS_PROFILE_PIC', 'HOST_IDENTITY_VERIFIED'\n",
    "    # review\n",
    "    , 'NUMBER_OF_REVIEWS','FIRST_REVIEW','LAST_REVIEW'\n",
    "    , 'REVIEW_SCORES_RATING', 'REVIEW_SCORES_ACCURACY'\n",
    "    , 'REVIEW_SCORES_CLEANLINESS', 'REVIEW_SCORES_CHECKIN'\n",
    "    , 'REVIEW_SCORES_COMMUNICATION', 'REVIEW_SCORES_LOCATION'\n",
    "    , 'REVIEW_SCORES_VALUE', 'REVIEWS_PER_MONTH'\n",
    "    # location\n",
    "    , 'NEIGHBOURHOOD_CLEANSED', 'IS_LOCATION_EXACT'\n",
    "    # , 'LATITUDE', 'LONGITUDE'\n",
    "    # price\n",
    "    , 'TXN_PRICE', 'SECURITY_DEPOSIT', 'CLEANING_FEE', 'EXTRA_PEOPLE'\n",
    "    ]\n",
    "\n",
    "df_test = df_test[col_list]\n",
    "df_test.head(1)"
   ],
   "metadata": {
    "collapsed": false,
    "pycharm": {
     "name": "#%%\n"
    }
   }
  },
  {
   "cell_type": "code",
   "execution_count": 189,
   "outputs": [],
   "source": [
    "df_pre, pred_time = global_model_api(df_test.iloc[[29]], pred_time = True)\n"
   ],
   "metadata": {
    "collapsed": false,
    "pycharm": {
     "name": "#%%\n"
    }
   }
  },
  {
   "cell_type": "code",
   "execution_count": 192,
   "outputs": [
    {
     "data": {
      "text/plain": "           ID YEAR_MONTH  BOOKED\n73502  136510    2020-06      26",
      "text/html": "<div>\n<style scoped>\n    .dataframe tbody tr th:only-of-type {\n        vertical-align: middle;\n    }\n\n    .dataframe tbody tr th {\n        vertical-align: top;\n    }\n\n    .dataframe thead th {\n        text-align: right;\n    }\n</style>\n<table border=\"1\" class=\"dataframe\">\n  <thead>\n    <tr style=\"text-align: right;\">\n      <th></th>\n      <th>ID</th>\n      <th>YEAR_MONTH</th>\n      <th>BOOKED</th>\n    </tr>\n  </thead>\n  <tbody>\n    <tr>\n      <th>73502</th>\n      <td>136510</td>\n      <td>2020-06</td>\n      <td>26</td>\n    </tr>\n  </tbody>\n</table>\n</div>"
     },
     "execution_count": 192,
     "metadata": {},
     "output_type": "execute_result"
    }
   ],
   "source": [
    "df_pre"
   ],
   "metadata": {
    "collapsed": false,
    "pycharm": {
     "name": "#%%\n"
    }
   }
  },
  {
   "cell_type": "code",
   "execution_count": 193,
   "outputs": [
    {
     "data": {
      "text/plain": "130.54"
     },
     "execution_count": 193,
     "metadata": {},
     "output_type": "execute_result"
    }
   ],
   "source": [
    "pred_time\n",
    "\n"
   ],
   "metadata": {
    "collapsed": false,
    "pycharm": {
     "name": "#%%\n"
    }
   }
  }
 ],
 "metadata": {
  "kernelspec": {
   "name": "conda-root-py",
   "language": "python",
   "display_name": "Python [conda env:root] *"
  },
  "language_info": {
   "codemirror_mode": {
    "name": "ipython",
    "version": 2
   },
   "file_extension": ".py",
   "mimetype": "text/x-python",
   "name": "python",
   "nbconvert_exporter": "python",
   "pygments_lexer": "ipython2",
   "version": "2.7.6"
  }
 },
 "nbformat": 4,
 "nbformat_minor": 0
}