{
 "cells": [
  {
   "cell_type": "code",
   "execution_count": 1,
   "metadata": {},
   "outputs": [
    {
     "name": "stdout",
     "output_type": "stream",
     "text": [
      "C:\\Users\\tyler\\repos\\airbnb-forecast\n"
     ]
    }
   ],
   "source": [
    "import glob\n",
    "import os\n",
    "import pandas as pd\n",
    "from datetime import datetime, timedelta \n",
    "from dateutil.relativedelta import relativedelta\n",
    "from src.func_data_engineering import *\n",
    "\n",
    "# auto load modules\n",
    "%load_ext autoreload\n",
    "%autoreload\n",
    "\n",
    "%cd C:\\Users\\tyler\\repos\\airbnb-forecast"
   ]
  },
  {
   "cell_type": "code",
   "execution_count": 2,
   "metadata": {
    "pycharm": {
     "name": "#%%\n"
    }
   },
   "outputs": [
    {
     "name": "stderr",
     "output_type": "stream",
     "text": [
      "C:\\Users\\tyler\\Anaconda3\\lib\\site-packages\\IPython\\core\\interactiveshell.py:3146: DtypeWarning: Columns (43,61,62,94) have mixed types.Specify dtype option on import or set low_memory=False.\n",
      "  interactivity=interactivity, compiler=compiler, result=result)\n",
      "C:\\Users\\tyler\\Anaconda3\\lib\\site-packages\\IPython\\core\\interactiveshell.py:3146: DtypeWarning: Columns (61,62,94) have mixed types.Specify dtype option on import or set low_memory=False.\n",
      "  interactivity=interactivity, compiler=compiler, result=result)\n"
     ]
    }
   ],
   "source": [
    "# store raw data\n",
    "# listing\n",
    "\n",
    "cols = ['id', 'last_scraped', 'host_id', 'host_since','host_neighbourhood',\n",
    "       'host_response_time', 'host_response_rate', 'host_acceptance_rate',\n",
    "       'host_is_superhost', 'calculated_host_listings_count',\n",
    "     'calculated_host_listings_count_entire_homes',\n",
    "       'calculated_host_listings_count_private_rooms',\n",
    "       'calculated_host_listings_count_shared_rooms',\n",
    " 'host_verifications',\n",
    "       'host_has_profile_pic', 'host_identity_verified', \n",
    "         'street',\n",
    "      'neighbourhood_cleansed','city', 'state', 'zipcode', 'market',\n",
    "       'smart_location','country', 'latitude', 'longitude',\n",
    "       'is_location_exact', 'property_type', 'room_type', 'accommodates',\n",
    "       'bathrooms', 'bedrooms', 'beds', 'bed_type', 'amenities', 'square_feet',\n",
    "       'price', 'weekly_price', 'monthly_price', 'security_deposit',\n",
    "       'cleaning_fee', 'guests_included', 'extra_people', 'minimum_nights',\n",
    "       'maximum_nights', 'minimum_minimum_nights', 'maximum_minimum_nights',\n",
    "       'minimum_maximum_nights', 'maximum_maximum_nights',\n",
    "       'minimum_nights_avg_ntm', 'maximum_nights_avg_ntm', 'calendar_updated',\n",
    "       'has_availability', 'availability_30', 'availability_60',\n",
    "       'availability_90', 'availability_365', 'calendar_last_scraped',\n",
    "       'number_of_reviews', 'number_of_reviews_ltm', 'first_review',\n",
    "       'last_review', 'review_scores_rating', 'review_scores_accuracy',\n",
    "       'review_scores_cleanliness', 'review_scores_checkin',\n",
    "       'review_scores_communication', 'review_scores_location',\n",
    "       'review_scores_value','instant_bookable', 'is_business_travel_ready',\n",
    "       'cancellation_policy', 'require_guest_profile_picture',\n",
    "       'require_guest_phone_verification', \n",
    "        'reviews_per_month']\n",
    "\n",
    "path = r'data\\20'\n",
    "all_files = glob.glob(os.path.join(path,\"listings*.csv\"))\n",
    "\n",
    "ls_file = []\n",
    "for file in all_files:\n",
    "    df = pd.read_csv(file,header=0)\n",
    "    df = df[cols]\n",
    "    ls_file.append(df)\n",
    "\n",
    "df_list = pd.concat(ls_file,axis=0,ignore_index=True)"
   ]
  },
  {
   "cell_type": "code",
   "execution_count": 3,
   "metadata": {
    "pycharm": {
     "name": "#%%\n"
    }
   },
   "outputs": [
    {
     "data": {
      "text/plain": [
       "Index(['ID', 'LAST_SCRAPED', 'HOST_ID', 'HOST_SINCE', 'HOST_NEIGHBOURHOOD',\n",
       "       'HOST_RESPONSE_TIME', 'HOST_RESPONSE_RATE', 'HOST_ACCEPTANCE_RATE',\n",
       "       'HOST_IS_SUPERHOST', 'CALCULATED_HOST_LISTINGS_COUNT',\n",
       "       'CALCULATED_HOST_LISTINGS_COUNT_ENTIRE_HOMES',\n",
       "       'CALCULATED_HOST_LISTINGS_COUNT_PRIVATE_ROOMS',\n",
       "       'CALCULATED_HOST_LISTINGS_COUNT_SHARED_ROOMS', 'HOST_VERIFICATIONS',\n",
       "       'HOST_HAS_PROFILE_PIC', 'HOST_IDENTITY_VERIFIED', 'STREET',\n",
       "       'NEIGHBOURHOOD_CLEANSED', 'CITY', 'STATE', 'ZIPCODE', 'MARKET',\n",
       "       'SMART_LOCATION', 'COUNTRY', 'LATITUDE', 'LONGITUDE',\n",
       "       'IS_LOCATION_EXACT', 'PROPERTY_TYPE', 'ROOM_TYPE', 'ACCOMMODATES',\n",
       "       'BATHROOMS', 'BEDROOMS', 'BEDS', 'BED_TYPE', 'AMENITIES', 'SQUARE_FEET',\n",
       "       'PRICE', 'WEEKLY_PRICE', 'MONTHLY_PRICE', 'SECURITY_DEPOSIT',\n",
       "       'CLEANING_FEE', 'GUESTS_INCLUDED', 'EXTRA_PEOPLE', 'MINIMUM_NIGHTS',\n",
       "       'MAXIMUM_NIGHTS', 'MINIMUM_MINIMUM_NIGHTS', 'MAXIMUM_MINIMUM_NIGHTS',\n",
       "       'MINIMUM_MAXIMUM_NIGHTS', 'MAXIMUM_MAXIMUM_NIGHTS',\n",
       "       'MINIMUM_NIGHTS_AVG_NTM', 'MAXIMUM_NIGHTS_AVG_NTM', 'CALENDAR_UPDATED',\n",
       "       'HAS_AVAILABILITY', 'AVAILABILITY_30', 'AVAILABILITY_60',\n",
       "       'AVAILABILITY_90', 'AVAILABILITY_365', 'CALENDAR_LAST_SCRAPED',\n",
       "       'NUMBER_OF_REVIEWS', 'NUMBER_OF_REVIEWS_LTM', 'FIRST_REVIEW',\n",
       "       'LAST_REVIEW', 'REVIEW_SCORES_RATING', 'REVIEW_SCORES_ACCURACY',\n",
       "       'REVIEW_SCORES_CLEANLINESS', 'REVIEW_SCORES_CHECKIN',\n",
       "       'REVIEW_SCORES_COMMUNICATION', 'REVIEW_SCORES_LOCATION',\n",
       "       'REVIEW_SCORES_VALUE', 'INSTANT_BOOKABLE', 'IS_BUSINESS_TRAVEL_READY',\n",
       "       'CANCELLATION_POLICY', 'REQUIRE_GUEST_PROFILE_PICTURE',\n",
       "       'REQUIRE_GUEST_PHONE_VERIFICATION', 'REVIEWS_PER_MONTH'],\n",
       "      dtype='object')"
      ]
     },
     "execution_count": 3,
     "metadata": {},
     "output_type": "execute_result"
    }
   ],
   "source": [
    "df_list.columns.str.upper()"
   ]
  },
  {
   "cell_type": "code",
   "execution_count": 63,
   "metadata": {
    "pycharm": {
     "name": "#%%\n"
    }
   },
   "outputs": [
    {
     "name": "stdout",
     "output_type": "stream",
     "text": [
      "<class 'pandas.core.frame.DataFrame'>\n",
      "RangeIndex: 148835 entries, 0 to 148834\n",
      "Data columns (total 2 columns):\n",
      " #   Column     Non-Null Count   Dtype  \n",
      "---  ------     --------------   -----  \n",
      " 0   latitude   148835 non-null  float64\n",
      " 1   longitude  148835 non-null  float64\n",
      "dtypes: float64(2)\n",
      "memory usage: 2.3 MB\n"
     ]
    }
   ],
   "source": [
    "df_list.head()"
   ]
  },
  {
   "cell_type": "code",
   "execution_count": null,
   "metadata": {},
   "outputs": [],
   "source": [
    "# upload FS_LIST_RAW\n",
    "\n",
    "fs_upload(engine,df_list,'FS_LIST_RAW')"
   ]
  },
  {
   "cell_type": "code",
   "execution_count": null,
   "metadata": {},
   "outputs": [],
   "source": [
    "# features for model\n",
    "\n",
    "col_list = ['id', 'last_scraped', 'host_since','host_neighbourhood',\n",
    "       'host_response_time', 'host_response_rate', 'host_acceptance_rate',\n",
    "       'host_is_superhost', 'calculated_host_listings_count',\n",
    "         'host_verifications','host_has_profile_pic', 'host_identity_verified', \n",
    "         'street','neighbourhood_cleansed',\n",
    "        'city', 'state', 'zipcode', 'market', 'country', 'latitude', 'longitude',\n",
    "       'property_type', 'room_type', 'accommodates',\n",
    "       'bathrooms', 'bedrooms', 'beds', 'bed_type', \n",
    "       'price', 'security_deposit',\n",
    "       'cleaning_fee', 'guests_included', 'extra_people', 'minimum_nights',\n",
    "       'maximum_nights', 'calendar_updated',\n",
    "       'number_of_reviews','number_of_reviews_ltm', 'first_review',\n",
    "       'last_review', 'review_scores_rating', 'review_scores_accuracy',\n",
    "       'review_scores_cleanliness', 'review_scores_checkin',\n",
    "       'review_scores_communication', 'review_scores_location',\n",
    "       'review_scores_value','instant_bookable', 'is_business_travel_ready',\n",
    "       'cancellation_policy', 'require_guest_profile_picture',\n",
    "       'require_guest_phone_verification', \n",
    "        'reviews_per_month']"
   ]
  },
  {
   "cell_type": "code",
   "execution_count": 41,
   "metadata": {},
   "outputs": [],
   "source": [
    "# calendar data\n",
    "\n",
    "# read files\n",
    "all_cal= glob.glob(os.path.join(path,\"calendar*.csv\"))\n",
    "\n",
    "ls_cal = []\n",
    "for file in all_cal:\n",
    "    df = pd.read_csv(file,header=0)\n",
    "    #df['SCRAPED_DATE'] = df.date.min()\n",
    "    ls_cal.append(df)\n",
    "\n",
    "    \n",
    "# for each monthly scrape, only keep the calendar data b/w the scraped date and the date of next scrape run\n",
    "ls_month = []\n",
    "num_cal = len(ls_cal)\n",
    "for i in range(num_cal):\n",
    "    if i < num_cal-1:\n",
    "        date_end = ls_cal[i+1].date.min()\n",
    "        df = ls_cal[i]\n",
    "        df = df[df.date < date_end]\n",
    "    else:\n",
    "        df = ls_cal[i]\n",
    "        date_start = pd.to_datetime(df.date.min()).date()\n",
    "        date_end = date_start+relativedelta(months=1)\n",
    "        df = df[df.date<str(date_end)]\n",
    "    ls_month.append(df)\n",
    "\n",
    "df_cal = pd.concat(ls_month,axis=0,ignore_index=True)\n",
    "\n",
    "\n",
    "# clean\n",
    "df_cal.columns = df_cal.columns.str.upper()\n",
    "df_cal['ADJUSTED_PRICE'] = df_cal['ADJUSTED_PRICE'].str.replace('$','')\n",
    "df_cal['ADJUSTED_PRICE'] = df_cal['ADJUSTED_PRICE'].str.replace(',','')\n",
    "df_cal['ADJUSTED_PRICE']=df_cal['ADJUSTED_PRICE'].astype(float) # convert to float to keep nan values\n",
    "df_cal['PRICE'] = df_cal['PRICE'].str.replace('$','')\n",
    "df_cal['PRICE'] = df_cal['PRICE'].str.replace(',','')\n",
    "df_cal['PRICE']=df_cal['PRICE'].astype(float)\n",
    "df_cal['BOOKED'] = df_cal.AVAILABLE.replace({'t':0,'f':1})"
   ]
  },
  {
   "cell_type": "code",
   "execution_count": 29,
   "metadata": {
    "pycharm": {
     "name": "#%%\n"
    }
   },
   "outputs": [
    {
     "data": {
      "text/html": [
       "<div>\n",
       "<style scoped>\n",
       "    .dataframe tbody tr th:only-of-type {\n",
       "        vertical-align: middle;\n",
       "    }\n",
       "\n",
       "    .dataframe tbody tr th {\n",
       "        vertical-align: top;\n",
       "    }\n",
       "\n",
       "    .dataframe thead th {\n",
       "        text-align: right;\n",
       "    }\n",
       "</style>\n",
       "<table border=\"1\" class=\"dataframe\">\n",
       "  <thead>\n",
       "    <tr style=\"text-align: right;\">\n",
       "      <th></th>\n",
       "      <th>LISTING_ID</th>\n",
       "      <th>DATE</th>\n",
       "      <th>AVAILABLE</th>\n",
       "      <th>PRICE</th>\n",
       "      <th>ADJUSTED_PRICE</th>\n",
       "      <th>MINIMUM_NIGHTS</th>\n",
       "      <th>MAXIMUM_NIGHTS</th>\n",
       "      <th>BOOKED</th>\n",
       "    </tr>\n",
       "  </thead>\n",
       "  <tbody>\n",
       "    <tr>\n",
       "      <th>0</th>\n",
       "      <td>251965</td>\n",
       "      <td>2020-01-07</td>\n",
       "      <td>f</td>\n",
       "      <td>259.0</td>\n",
       "      <td>259.0</td>\n",
       "      <td>1.0</td>\n",
       "      <td>365.0</td>\n",
       "      <td>1</td>\n",
       "    </tr>\n",
       "    <tr>\n",
       "      <th>1</th>\n",
       "      <td>653384</td>\n",
       "      <td>2020-01-07</td>\n",
       "      <td>f</td>\n",
       "      <td>100.0</td>\n",
       "      <td>100.0</td>\n",
       "      <td>1.0</td>\n",
       "      <td>1125.0</td>\n",
       "      <td>1</td>\n",
       "    </tr>\n",
       "    <tr>\n",
       "      <th>2</th>\n",
       "      <td>653384</td>\n",
       "      <td>2020-01-08</td>\n",
       "      <td>f</td>\n",
       "      <td>100.0</td>\n",
       "      <td>100.0</td>\n",
       "      <td>1.0</td>\n",
       "      <td>1125.0</td>\n",
       "      <td>1</td>\n",
       "    </tr>\n",
       "    <tr>\n",
       "      <th>3</th>\n",
       "      <td>653384</td>\n",
       "      <td>2020-01-09</td>\n",
       "      <td>f</td>\n",
       "      <td>100.0</td>\n",
       "      <td>100.0</td>\n",
       "      <td>1.0</td>\n",
       "      <td>1125.0</td>\n",
       "      <td>1</td>\n",
       "    </tr>\n",
       "    <tr>\n",
       "      <th>4</th>\n",
       "      <td>653384</td>\n",
       "      <td>2020-01-10</td>\n",
       "      <td>f</td>\n",
       "      <td>100.0</td>\n",
       "      <td>100.0</td>\n",
       "      <td>1.0</td>\n",
       "      <td>1125.0</td>\n",
       "      <td>1</td>\n",
       "    </tr>\n",
       "  </tbody>\n",
       "</table>\n",
       "</div>"
      ],
      "text/plain": [
       "   LISTING_ID        DATE AVAILABLE  PRICE  ADJUSTED_PRICE  MINIMUM_NIGHTS  \\\n",
       "0      251965  2020-01-07         f  259.0           259.0             1.0   \n",
       "1      653384  2020-01-07         f  100.0           100.0             1.0   \n",
       "2      653384  2020-01-08         f  100.0           100.0             1.0   \n",
       "3      653384  2020-01-09         f  100.0           100.0             1.0   \n",
       "4      653384  2020-01-10         f  100.0           100.0             1.0   \n",
       "\n",
       "   MAXIMUM_NIGHTS  BOOKED  \n",
       "0           365.0       1  \n",
       "1          1125.0       1  \n",
       "2          1125.0       1  \n",
       "3          1125.0       1  \n",
       "4          1125.0       1  "
      ]
     },
     "execution_count": 29,
     "metadata": {},
     "output_type": "execute_result"
    }
   ],
   "source": [
    "df_cal.head()"
   ]
  },
  {
   "cell_type": "code",
   "execution_count": 43,
   "metadata": {},
   "outputs": [
    {
     "data": {
      "text/plain": [
       "(4555609, 9)"
      ]
     },
     "execution_count": 43,
     "metadata": {},
     "output_type": "execute_result"
    }
   ],
   "source": [
    "df_cal.shape"
   ]
  },
  {
   "cell_type": "code",
   "execution_count": 28,
   "metadata": {
    "pycharm": {
     "is_executing": true,
     "name": "#%%\n"
    }
   },
   "outputs": [
    {
     "data": {
      "text/plain": [
       "1143.5180366039276"
      ]
     },
     "execution_count": 28,
     "metadata": {},
     "output_type": "execute_result"
    }
   ],
   "source": [
    "# upload FS_CAL_RAW\n",
    "\n",
    "engine = connect_my_db('secrets/db_string')\n",
    "fs_upload(engine,df_cal,'FS_CAL_RAW')"
   ]
  },
  {
   "cell_type": "code",
   "execution_count": 48,
   "metadata": {
    "pycharm": {
     "name": "#%%\n"
    }
   },
   "outputs": [],
   "source": [
    "# aggregate to monthly\n",
    "\n",
    "df_cal['YEAR_MONTH'] = df_cal.DATE.str[:7]\n",
    "\n",
    "df_month = df_cal[['LISTING_ID','YEAR_MONTH','ADJUSTED_PRICE','BOOKED']].groupby(['LISTING_ID','YEAR_MONTH']).\\\n",
    "agg({'ADJUSTED_PRICE':'median','BOOKED':'sum'}).reset_index()\n",
    "\n",
    "# drop the half last month\n",
    "df_month=df_month[~(df_month.YEAR_MONTH=='2020-07')]"
   ]
  },
  {
   "cell_type": "code",
   "execution_count": 56,
   "metadata": {},
   "outputs": [
    {
     "data": {
      "text/html": [
       "<div>\n",
       "<style scoped>\n",
       "    .dataframe tbody tr th:only-of-type {\n",
       "        vertical-align: middle;\n",
       "    }\n",
       "\n",
       "    .dataframe tbody tr th {\n",
       "        vertical-align: top;\n",
       "    }\n",
       "\n",
       "    .dataframe thead th {\n",
       "        text-align: right;\n",
       "    }\n",
       "</style>\n",
       "<table border=\"1\" class=\"dataframe\">\n",
       "  <thead>\n",
       "    <tr style=\"text-align: right;\">\n",
       "      <th></th>\n",
       "      <th>LISTING_ID</th>\n",
       "      <th>YEAR_MONTH</th>\n",
       "      <th>ADJUSTED_PRICE</th>\n",
       "      <th>BOOKED</th>\n",
       "    </tr>\n",
       "  </thead>\n",
       "  <tbody>\n",
       "    <tr>\n",
       "      <th>0</th>\n",
       "      <td>9835</td>\n",
       "      <td>2020-01</td>\n",
       "      <td>60.0</td>\n",
       "      <td>0</td>\n",
       "    </tr>\n",
       "    <tr>\n",
       "      <th>1</th>\n",
       "      <td>9835</td>\n",
       "      <td>2020-02</td>\n",
       "      <td>60.0</td>\n",
       "      <td>0</td>\n",
       "    </tr>\n",
       "    <tr>\n",
       "      <th>2</th>\n",
       "      <td>9835</td>\n",
       "      <td>2020-03</td>\n",
       "      <td>60.0</td>\n",
       "      <td>0</td>\n",
       "    </tr>\n",
       "    <tr>\n",
       "      <th>3</th>\n",
       "      <td>9835</td>\n",
       "      <td>2020-04</td>\n",
       "      <td>60.0</td>\n",
       "      <td>0</td>\n",
       "    </tr>\n",
       "    <tr>\n",
       "      <th>4</th>\n",
       "      <td>9835</td>\n",
       "      <td>2020-05</td>\n",
       "      <td>60.0</td>\n",
       "      <td>0</td>\n",
       "    </tr>\n",
       "    <tr>\n",
       "      <th>...</th>\n",
       "      <td>...</td>\n",
       "      <td>...</td>\n",
       "      <td>...</td>\n",
       "      <td>...</td>\n",
       "    </tr>\n",
       "    <tr>\n",
       "      <th>180369</th>\n",
       "      <td>43733191</td>\n",
       "      <td>2020-06</td>\n",
       "      <td>320.0</td>\n",
       "      <td>11</td>\n",
       "    </tr>\n",
       "    <tr>\n",
       "      <th>180371</th>\n",
       "      <td>43744200</td>\n",
       "      <td>2020-06</td>\n",
       "      <td>55.0</td>\n",
       "      <td>15</td>\n",
       "    </tr>\n",
       "    <tr>\n",
       "      <th>180373</th>\n",
       "      <td>43746933</td>\n",
       "      <td>2020-06</td>\n",
       "      <td>140.0</td>\n",
       "      <td>7</td>\n",
       "    </tr>\n",
       "    <tr>\n",
       "      <th>180375</th>\n",
       "      <td>43748923</td>\n",
       "      <td>2020-06</td>\n",
       "      <td>79.0</td>\n",
       "      <td>19</td>\n",
       "    </tr>\n",
       "    <tr>\n",
       "      <th>180377</th>\n",
       "      <td>43749261</td>\n",
       "      <td>2020-06</td>\n",
       "      <td>74.0</td>\n",
       "      <td>19</td>\n",
       "    </tr>\n",
       "  </tbody>\n",
       "</table>\n",
       "<p>156932 rows × 4 columns</p>\n",
       "</div>"
      ],
      "text/plain": [
       "        LISTING_ID YEAR_MONTH  ADJUSTED_PRICE  BOOKED\n",
       "0             9835    2020-01            60.0       0\n",
       "1             9835    2020-02            60.0       0\n",
       "2             9835    2020-03            60.0       0\n",
       "3             9835    2020-04            60.0       0\n",
       "4             9835    2020-05            60.0       0\n",
       "...            ...        ...             ...     ...\n",
       "180369    43733191    2020-06           320.0      11\n",
       "180371    43744200    2020-06            55.0      15\n",
       "180373    43746933    2020-06           140.0       7\n",
       "180375    43748923    2020-06            79.0      19\n",
       "180377    43749261    2020-06            74.0      19\n",
       "\n",
       "[156932 rows x 4 columns]"
      ]
     },
     "execution_count": 56,
     "metadata": {},
     "output_type": "execute_result"
    }
   ],
   "source": [
    "df_month"
   ]
  },
  {
   "cell_type": "code",
   "execution_count": null,
   "metadata": {},
   "outputs": [],
   "source": [
    "# upload FS_CAL_MONTHLY\n",
    "\n",
    "fs_upload(engine,df_cal,'FS_CAL_MONTHLY')"
   ]
  },
  {
   "cell_type": "code",
   "execution_count": null,
   "metadata": {
    "pycharm": {
     "name": "#%%\n"
    }
   },
   "outputs": [],
   "source": [
    "fre=cal.listing_id.value_counts()"
   ]
  },
  {
   "cell_type": "code",
   "execution_count": null,
   "metadata": {
    "pycharm": {
     "name": "#%%\n"
    }
   },
   "outputs": [],
   "source": [
    "cal.available=cal.available.replace({'t':1,'f':0})\n",
    "cal.head()"
   ]
  },
  {
   "cell_type": "code",
   "execution_count": null,
   "metadata": {
    "pycharm": {
     "name": "#%%\n"
    }
   },
   "outputs": [],
   "source": [
    "cal.date.max()"
   ]
  },
  {
   "cell_type": "code",
   "execution_count": null,
   "metadata": {
    "pycharm": {
     "name": "#%%\n"
    }
   },
   "outputs": [],
   "source": [
    "cal[['listing_id','available']].groupby(['listing_id']).sum()"
   ]
  },
  {
   "cell_type": "code",
   "execution_count": null,
   "metadata": {
    "pycharm": {
     "name": "#%%\n"
    }
   },
   "outputs": [],
   "source": []
  },
  {
   "cell_type": "code",
   "execution_count": null,
   "metadata": {
    "pycharm": {
     "name": "#%%\n"
    }
   },
   "outputs": [],
   "source": [
    "fre.unique()"
   ]
  },
  {
   "cell_type": "code",
   "execution_count": 6,
   "metadata": {},
   "outputs": [],
   "source": [
    "fre.unique()"
   ]
  },
  {
   "cell_type": "code",
   "execution_count": 9,
   "metadata": {},
   "outputs": [
    {
     "data": {
      "text/html": [
       "<div>\n",
       "<style scoped>\n",
       "    .dataframe tbody tr th:only-of-type {\n",
       "        vertical-align: middle;\n",
       "    }\n",
       "\n",
       "    .dataframe tbody tr th {\n",
       "        vertical-align: top;\n",
       "    }\n",
       "\n",
       "    .dataframe thead th {\n",
       "        text-align: right;\n",
       "    }\n",
       "</style>\n",
       "<table border=\"1\" class=\"dataframe\">\n",
       "  <thead>\n",
       "    <tr style=\"text-align: right;\">\n",
       "      <th></th>\n",
       "      <th>listing_id</th>\n",
       "      <th>date</th>\n",
       "      <th>available</th>\n",
       "      <th>price</th>\n",
       "      <th>adjusted_price</th>\n",
       "      <th>minimum_nights</th>\n",
       "      <th>maximum_nights</th>\n",
       "    </tr>\n",
       "  </thead>\n",
       "  <tbody>\n",
       "    <tr>\n",
       "      <th>0</th>\n",
       "      <td>323280</td>\n",
       "      <td>2020-06-12</td>\n",
       "      <td>t</td>\n",
       "      <td>$67.00</td>\n",
       "      <td>$67.00</td>\n",
       "      <td>1.0</td>\n",
       "      <td>730365.0</td>\n",
       "    </tr>\n",
       "    <tr>\n",
       "      <th>1</th>\n",
       "      <td>315513</td>\n",
       "      <td>2020-06-12</td>\n",
       "      <td>f</td>\n",
       "      <td>$45.00</td>\n",
       "      <td>$45.00</td>\n",
       "      <td>1.0</td>\n",
       "      <td>1125.0</td>\n",
       "    </tr>\n",
       "    <tr>\n",
       "      <th>2</th>\n",
       "      <td>315513</td>\n",
       "      <td>2020-06-13</td>\n",
       "      <td>f</td>\n",
       "      <td>$45.00</td>\n",
       "      <td>$45.00</td>\n",
       "      <td>1.0</td>\n",
       "      <td>1125.0</td>\n",
       "    </tr>\n",
       "    <tr>\n",
       "      <th>3</th>\n",
       "      <td>315513</td>\n",
       "      <td>2020-06-14</td>\n",
       "      <td>f</td>\n",
       "      <td>$45.00</td>\n",
       "      <td>$45.00</td>\n",
       "      <td>1.0</td>\n",
       "      <td>1125.0</td>\n",
       "    </tr>\n",
       "    <tr>\n",
       "      <th>4</th>\n",
       "      <td>315513</td>\n",
       "      <td>2020-06-15</td>\n",
       "      <td>f</td>\n",
       "      <td>$45.00</td>\n",
       "      <td>$45.00</td>\n",
       "      <td>1.0</td>\n",
       "      <td>1125.0</td>\n",
       "    </tr>\n",
       "  </tbody>\n",
       "</table>\n",
       "</div>"
      ],
      "text/plain": [
       "   listing_id        date available   price adjusted_price  minimum_nights  \\\n",
       "0      323280  2020-06-12         t  $67.00         $67.00             1.0   \n",
       "1      315513  2020-06-12         f  $45.00         $45.00             1.0   \n",
       "2      315513  2020-06-13         f  $45.00         $45.00             1.0   \n",
       "3      315513  2020-06-14         f  $45.00         $45.00             1.0   \n",
       "4      315513  2020-06-15         f  $45.00         $45.00             1.0   \n",
       "\n",
       "   maximum_nights  \n",
       "0        730365.0  \n",
       "1          1125.0  \n",
       "2          1125.0  \n",
       "3          1125.0  \n",
       "4          1125.0  "
      ]
     },
     "execution_count": 9,
     "metadata": {},
     "output_type": "execute_result"
    }
   ],
   "source": [
    "cal.head()"
   ]
  },
  {
   "cell_type": "code",
   "execution_count": 10,
   "metadata": {},
   "outputs": [],
   "source": [
    "fre=cal.listing_id.value_counts()"
   ]
  },
  {
   "cell_type": "code",
   "execution_count": 19,
   "metadata": {},
   "outputs": [
    {
     "data": {
      "text/html": [
       "<div>\n",
       "<style scoped>\n",
       "    .dataframe tbody tr th:only-of-type {\n",
       "        vertical-align: middle;\n",
       "    }\n",
       "\n",
       "    .dataframe tbody tr th {\n",
       "        vertical-align: top;\n",
       "    }\n",
       "\n",
       "    .dataframe thead th {\n",
       "        text-align: right;\n",
       "    }\n",
       "</style>\n",
       "<table border=\"1\" class=\"dataframe\">\n",
       "  <thead>\n",
       "    <tr style=\"text-align: right;\">\n",
       "      <th></th>\n",
       "      <th>listing_id</th>\n",
       "      <th>date</th>\n",
       "      <th>available</th>\n",
       "      <th>price</th>\n",
       "      <th>adjusted_price</th>\n",
       "      <th>minimum_nights</th>\n",
       "      <th>maximum_nights</th>\n",
       "    </tr>\n",
       "  </thead>\n",
       "  <tbody>\n",
       "    <tr>\n",
       "      <th>0</th>\n",
       "      <td>323280</td>\n",
       "      <td>2020-06-12</td>\n",
       "      <td>1</td>\n",
       "      <td>$67.00</td>\n",
       "      <td>$67.00</td>\n",
       "      <td>1.0</td>\n",
       "      <td>730365.0</td>\n",
       "    </tr>\n",
       "    <tr>\n",
       "      <th>1</th>\n",
       "      <td>315513</td>\n",
       "      <td>2020-06-12</td>\n",
       "      <td>0</td>\n",
       "      <td>$45.00</td>\n",
       "      <td>$45.00</td>\n",
       "      <td>1.0</td>\n",
       "      <td>1125.0</td>\n",
       "    </tr>\n",
       "    <tr>\n",
       "      <th>2</th>\n",
       "      <td>315513</td>\n",
       "      <td>2020-06-13</td>\n",
       "      <td>0</td>\n",
       "      <td>$45.00</td>\n",
       "      <td>$45.00</td>\n",
       "      <td>1.0</td>\n",
       "      <td>1125.0</td>\n",
       "    </tr>\n",
       "    <tr>\n",
       "      <th>3</th>\n",
       "      <td>315513</td>\n",
       "      <td>2020-06-14</td>\n",
       "      <td>0</td>\n",
       "      <td>$45.00</td>\n",
       "      <td>$45.00</td>\n",
       "      <td>1.0</td>\n",
       "      <td>1125.0</td>\n",
       "    </tr>\n",
       "    <tr>\n",
       "      <th>4</th>\n",
       "      <td>315513</td>\n",
       "      <td>2020-06-15</td>\n",
       "      <td>0</td>\n",
       "      <td>$45.00</td>\n",
       "      <td>$45.00</td>\n",
       "      <td>1.0</td>\n",
       "      <td>1125.0</td>\n",
       "    </tr>\n",
       "  </tbody>\n",
       "</table>\n",
       "</div>"
      ],
      "text/plain": [
       "   listing_id        date  available   price adjusted_price  minimum_nights  \\\n",
       "0      323280  2020-06-12          1  $67.00         $67.00             1.0   \n",
       "1      315513  2020-06-12          0  $45.00         $45.00             1.0   \n",
       "2      315513  2020-06-13          0  $45.00         $45.00             1.0   \n",
       "3      315513  2020-06-14          0  $45.00         $45.00             1.0   \n",
       "4      315513  2020-06-15          0  $45.00         $45.00             1.0   \n",
       "\n",
       "   maximum_nights  \n",
       "0        730365.0  \n",
       "1          1125.0  \n",
       "2          1125.0  \n",
       "3          1125.0  \n",
       "4          1125.0  "
      ]
     },
     "execution_count": 19,
     "metadata": {},
     "output_type": "execute_result"
    }
   ],
   "source": [
    "cal.available=cal.available.replace({'t':1,'f':0})\n",
    "cal.head()"
   ]
  },
  {
   "cell_type": "code",
   "execution_count": 21,
   "metadata": {},
   "outputs": [
    {
     "data": {
      "text/plain": [
       "'2021-06-13'"
      ]
     },
     "execution_count": 21,
     "metadata": {},
     "output_type": "execute_result"
    }
   ],
   "source": [
    "cal.date.max()"
   ]
  },
  {
   "cell_type": "code",
   "execution_count": 20,
   "metadata": {},
   "outputs": [
    {
     "data": {
      "text/html": [
       "<div>\n",
       "<style scoped>\n",
       "    .dataframe tbody tr th:only-of-type {\n",
       "        vertical-align: middle;\n",
       "    }\n",
       "\n",
       "    .dataframe tbody tr th {\n",
       "        vertical-align: top;\n",
       "    }\n",
       "\n",
       "    .dataframe thead th {\n",
       "        text-align: right;\n",
       "    }\n",
       "</style>\n",
       "<table border=\"1\" class=\"dataframe\">\n",
       "  <thead>\n",
       "    <tr style=\"text-align: right;\">\n",
       "      <th></th>\n",
       "      <th>available</th>\n",
       "    </tr>\n",
       "    <tr>\n",
       "      <th>listing_id</th>\n",
       "      <th></th>\n",
       "    </tr>\n",
       "  </thead>\n",
       "  <tbody>\n",
       "    <tr>\n",
       "      <th>9835</th>\n",
       "      <td>365</td>\n",
       "    </tr>\n",
       "    <tr>\n",
       "      <th>10803</th>\n",
       "      <td>41</td>\n",
       "    </tr>\n",
       "    <tr>\n",
       "      <th>12936</th>\n",
       "      <td>0</td>\n",
       "    </tr>\n",
       "    <tr>\n",
       "      <th>38271</th>\n",
       "      <td>351</td>\n",
       "    </tr>\n",
       "    <tr>\n",
       "      <th>41836</th>\n",
       "      <td>0</td>\n",
       "    </tr>\n",
       "    <tr>\n",
       "      <th>...</th>\n",
       "      <td>...</td>\n",
       "    </tr>\n",
       "    <tr>\n",
       "      <th>43733191</th>\n",
       "      <td>79</td>\n",
       "    </tr>\n",
       "    <tr>\n",
       "      <th>43744200</th>\n",
       "      <td>4</td>\n",
       "    </tr>\n",
       "    <tr>\n",
       "      <th>43746933</th>\n",
       "      <td>173</td>\n",
       "    </tr>\n",
       "    <tr>\n",
       "      <th>43748923</th>\n",
       "      <td>159</td>\n",
       "    </tr>\n",
       "    <tr>\n",
       "      <th>43749261</th>\n",
       "      <td>161</td>\n",
       "    </tr>\n",
       "  </tbody>\n",
       "</table>\n",
       "<p>23447 rows × 1 columns</p>\n",
       "</div>"
      ],
      "text/plain": [
       "            available\n",
       "listing_id           \n",
       "9835              365\n",
       "10803              41\n",
       "12936               0\n",
       "38271             351\n",
       "41836               0\n",
       "...               ...\n",
       "43733191           79\n",
       "43744200            4\n",
       "43746933          173\n",
       "43748923          159\n",
       "43749261          161\n",
       "\n",
       "[23447 rows x 1 columns]"
      ]
     },
     "execution_count": 20,
     "metadata": {},
     "output_type": "execute_result"
    }
   ],
   "source": [
    "cal[['listing_id','available']].groupby(['listing_id']).sum()"
   ]
  },
  {
   "cell_type": "code",
   "execution_count": null,
   "metadata": {},
   "outputs": [],
   "source": []
  },
  {
   "cell_type": "code",
   "execution_count": 15,
   "metadata": {},
   "outputs": [
    {
     "data": {
      "text/plain": [
       "array([367, 366, 365], dtype=int64)"
      ]
     },
     "execution_count": 15,
     "metadata": {},
     "output_type": "execute_result"
    }
   ],
   "source": [
    "fre.unique()"
   ]
  }
 ],
 "metadata": {
  "kernelspec": {
   "display_name": "Python [conda env:root] *",
   "language": "python",
   "name": "conda-root-py"
  },
  "language_info": {
   "codemirror_mode": {
    "name": "ipython",
    "version": 3
   },
   "file_extension": ".py",
   "mimetype": "text/x-python",
   "name": "python",
   "nbconvert_exporter": "python",
   "pygments_lexer": "ipython3",
   "version": "3.7.3"
  }
 },
 "nbformat": 4,
 "nbformat_minor": 1
}