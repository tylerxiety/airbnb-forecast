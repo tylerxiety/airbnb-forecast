{
 "cells": [
  {
   "cell_type": "code",
   "execution_count": null,
   "outputs": [],
   "source": [
    "import pandas as pd\n",
    "import numpy as np\n",
    "from datetime import datetime, timedelta \n",
    "from dateutil.relativedelta import relativedelta\n",
    "from src.func_data_engineering import *\n",
    "from src.func_data_diagnosis import *\n",
    "\n",
    "pd.set_option('display.max_columns', None)\n",
    "\n",
    "# auto load modules\n",
    "%load_ext autoreload\n",
    "%autoreload\n",
    "\n",
    "%cd C:\\Users\\tyler\\repos\\airbnb-forecast"
   ],
   "metadata": {
    "collapsed": false,
    "pycharm": {
     "name": "#%%\n"
    }
   }
  },
  {
   "cell_type": "code",
   "execution_count": null,
   "outputs": [],
   "source": [
    "# read listing data\n",
    "path = r'data\\test'\n",
    "listing_name = \"listings*.csv\"\n",
    "listings = read_data(path,listing_name, 'last_scraped', listing_data = True )\n",
    "df_listing = pd.concat(listings,axis=0,ignore_index=True)"
   ],
   "metadata": {
    "collapsed": false,
    "pycharm": {
     "name": "#%%\n"
    }
   }
  },
  {
   "cell_type": "code",
   "execution_count": null,
   "outputs": [],
   "source": [
    "# read calendar data\n",
    "cal_name = \"calendar*.csv\"\n",
    "calendars = read_data(path, cal_name, 'date')\n",
    "\n",
    "# for each monthly scrape, only keep the calendar data b/w the scraped date and the date of next scrape run\n",
    "cal_months = []\n",
    "num_cal = len(calendars)\n",
    "for i in range(num_cal):\n",
    "    if i < num_cal - 1:\n",
    "        date_end = calendars[i + 1].SCRAPED_DATE[0]\n",
    "        df = calendars[i]\n",
    "        df = df[df.date < date_end]\n",
    "    else:\n",
    "        df = calendars[i]\n",
    "        date_start = pd.to_datetime(df.SCRAPED_DATE[0]).date()\n",
    "        date_end = date_start + relativedelta.relativedelta(months=1)\n",
    "        df = df[df.date < str(date_end)]\n",
    "    cal_months.append(df)\n",
    "\n",
    "df_cal = pd.concat(cal_months, axis=0, ignore_index=True)"
   ],
   "metadata": {
    "collapsed": false,
    "pycharm": {
     "name": "#%%\n"
    }
   }
  },
  {
   "cell_type": "code",
   "execution_count": null,
   "outputs": [],
   "source": [
    "# cleanse listing data\n",
    "df_listing = cleanse_data(df_listing)"
   ],
   "metadata": {
    "collapsed": false,
    "pycharm": {
     "name": "#%%\n"
    }
   }
  },
  {
   "cell_type": "code",
   "execution_count": null,
   "outputs": [],
   "source": [
    "# cleanse calendar data\n",
    "\n",
    "df_cal = cleanse_data(df_cal, list_data=False)"
   ],
   "metadata": {
    "collapsed": false,
    "pycharm": {
     "name": "#%%\n"
    }
   }
  },
  {
   "cell_type": "code",
   "execution_count": null,
   "outputs": [],
   "source": [
    "# aggregate calendar data to monthly\n",
    "df_cal = agg_to_monthly(df_cal)\n",
    "df_cal.shape"
   ],
   "metadata": {
    "collapsed": false,
    "pycharm": {
     "name": "#%%\n"
    }
   }
  },
  {
   "cell_type": "code",
   "execution_count": null,
   "outputs": [],
   "source": [
    "# merge data\n",
    "df_listing['YEAR_MONTH'] = df_listing.SCRAPED_DATE.str[:7]\n",
    "df_data = df_cal.merge(df_listing, on = ['ID', 'YEAR_MONTH'])\n",
    "df_data.info()"
   ],
   "metadata": {
    "collapsed": false,
    "pycharm": {
     "name": "#%%\n"
    }
   }
  },
  {
   "cell_type": "code",
   "execution_count": null,
   "outputs": [],
   "source": [
    "# fs list\n",
    "df_list = fs_listing(df_data,output_all=True)\n",
    "df_list.info()"
   ],
   "metadata": {
    "collapsed": false,
    "pycharm": {
     "name": "#%%\n"
    }
   }
  },
  {
   "cell_type": "code",
   "execution_count": null,
   "outputs": [],
   "source": [
    "# fs_price\n",
    "df_price = fs_price(df_data, monthly=True)\n",
    "df_price.info()"
   ],
   "metadata": {
    "collapsed": false,
    "pycharm": {
     "name": "#%%\n"
    }
   }
  },
  {
   "cell_type": "code",
   "execution_count": null,
   "outputs": [],
   "source": [
    "# fs time\n",
    "df_time = fs_time(df_data, output_all=True)\n",
    "df_time.info()"
   ],
   "metadata": {
    "collapsed": false,
    "pycharm": {
     "name": "#%%\n"
    }
   }
  },
  {
   "cell_type": "code",
   "execution_count": null,
   "outputs": [],
   "source": [
    "# fs host\n",
    "df_host = fs_host(df_data, output_all=True)\n",
    "df_host.info()"
   ],
   "metadata": {
    "collapsed": false,
    "pycharm": {
     "name": "#%%\n"
    }
   }
  },
  {
   "cell_type": "code",
   "execution_count": null,
   "outputs": [],
   "source": [
    "# fs location\n",
    "df_location = fs_location(df_data, output_all=True)\n",
    "df_location.info()"
   ],
   "metadata": {
    "collapsed": false,
    "pycharm": {
     "name": "#%%\n"
    }
   }
  },
  {
   "cell_type": "code",
   "execution_count": null,
   "outputs": [],
   "source": [
    "# fs review\n",
    "df_review = fs_review(df_data, output_all=True)\n",
    "df_review.info()"
   ],
   "metadata": {
    "collapsed": false,
    "pycharm": {
     "name": "#%%\n"
    }
   }
  },
  {
   "cell_type": "code",
   "execution_count": null,
   "outputs": [],
   "source": [
    "# fs calendar\n",
    "df_calendar = fs_calendar(df_data, output_all=True)\n",
    "df_calendar.info()"
   ],
   "metadata": {
    "collapsed": false,
    "pycharm": {
     "name": "#%%\n"
    }
   }
  },
  {
   "cell_type": "code",
   "execution_count": null,
   "outputs": [],
   "source": [
    "# fs booked\n",
    "df_booked = fs_booked(df_data, output_all=True)\n",
    "df_booked.info()"
   ],
   "metadata": {
    "collapsed": false,
    "pycharm": {
     "name": "#%%\n"
    }
   }
  },
  {
   "cell_type": "code",
   "execution_count": null,
   "outputs": [],
   "source": [
    "engine = connect_my_db('secrets/db_string')"
   ],
   "metadata": {
    "collapsed": false,
    "pycharm": {
     "name": "#%%\n"
    }
   }
  },
  {
   "cell_type": "code",
   "execution_count": null,
   "outputs": [],
   "source": [
    "fs_upload(engine,df_ls,'FS_LIST')"
   ],
   "metadata": {
    "collapsed": false,
    "pycharm": {
     "name": "#%%\n"
    }
   }
  },
  {
   "cell_type": "code",
   "execution_count": null,
   "outputs": [],
   "source": [
    "fs_upload(engine,df_host,'FS_HOST')"
   ],
   "metadata": {
    "collapsed": false,
    "pycharm": {
     "name": "#%%\n"
    }
   }
  },
  {
   "cell_type": "code",
   "execution_count": null,
   "outputs": [],
   "source": [
    "fs_upload(engine,df_review,'FS_REVIEW')"
   ],
   "metadata": {
    "collapsed": false,
    "pycharm": {
     "name": "#%%\n"
    }
   }
  },
  {
   "cell_type": "code",
   "execution_count": null,
   "outputs": [],
   "source": [
    "fs_upload(engine,df_location,'FS_LOCATION_RAW')"
   ],
   "metadata": {
    "collapsed": false,
    "pycharm": {
     "name": "#%%\n"
    }
   }
  },
  {
   "cell_type": "code",
   "execution_count": null,
   "outputs": [],
   "source": [],
   "metadata": {
    "collapsed": false,
    "pycharm": {
     "name": "#%%\n"
    }
   }
  },
  {
   "cell_type": "code",
   "execution_count": null,
   "outputs": [],
   "source": [],
   "metadata": {
    "collapsed": false,
    "pycharm": {
     "name": "#%%\n"
    }
   }
  },
  {
   "cell_type": "code",
   "execution_count": null,
   "outputs": [],
   "source": [],
   "metadata": {
    "collapsed": false,
    "pycharm": {
     "name": "#%%\n"
    }
   }
  }
 ],
 "metadata": {
  "kernelspec": {
   "display_name": "Python [conda env:root] *",
   "language": "python",
   "name": "conda-root-py"
  },
  "language_info": {
   "codemirror_mode": {
    "name": "ipython",
    "version": 3
   },
   "file_extension": ".py",
   "mimetype": "text/x-python",
   "name": "python",
   "nbconvert_exporter": "python",
   "pygments_lexer": "ipython3",
   "version": "3.7.3"
  }
 },
 "nbformat": 4,
 "nbformat_minor": 1
}