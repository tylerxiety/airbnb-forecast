{
 "cells": [
  {
   "cell_type": "code",
   "execution_count": 3,
   "metadata": {},
   "outputs": [
    {
     "name": "stdout",
     "output_type": "stream",
     "text": [
      "The autoreload extension is already loaded. To reload it, use:\n",
      "  %reload_ext autoreload\n",
      "C:\\Users\\tyler\\repos\\airbnb-forecast\n"
     ]
    }
   ],
   "source": [
    "import glob\n",
    "import os\n",
    "import pandas as pd\n",
    "import numpy as np\n",
    "from datetime import datetime, timedelta \n",
    "from dateutil.relativedelta import relativedelta\n",
    "from src.func_data_engineering import *\n",
    "from src.func_data_diagnosis import *\n",
    "\n",
    "pd.set_option('display.max_columns', None)\n",
    "\n",
    "# auto load modules\n",
    "%load_ext autoreload\n",
    "%autoreload\n",
    "\n",
    "%cd C:\\Users\\tyler\\repos\\airbnb-forecast"
   ]
  },
  {
   "cell_type": "code",
   "execution_count": 2,
   "metadata": {
    "pycharm": {
     "name": "#%%\n"
    }
   },
   "outputs": [
    {
     "name": "stderr",
     "output_type": "stream",
     "text": [
      "C:\\Users\\tyler\\Anaconda3\\lib\\site-packages\\IPython\\core\\interactiveshell.py:3146: DtypeWarning: Columns (43,61,62,94) have mixed types.Specify dtype option on import or set low_memory=False.\n",
      "  interactivity=interactivity, compiler=compiler, result=result)\n",
      "C:\\Users\\tyler\\Anaconda3\\lib\\site-packages\\IPython\\core\\interactiveshell.py:3146: DtypeWarning: Columns (61,62,94) have mixed types.Specify dtype option on import or set low_memory=False.\n",
      "  interactivity=interactivity, compiler=compiler, result=result)\n"
     ]
    }
   ],
   "source": [
    "# store raw data\n",
    "# listing\n",
    "\n",
    "cols = [\n",
    "        # listing\n",
    "        'id', 'last_scraped', 'property_type', 'room_type', 'accommodates'\n",
    "        , 'bathrooms', 'bedrooms', 'beds', 'bed_type', 'amenities', 'square_feet'\n",
    "        , 'minimum_nights', 'maximum_nights', 'minimum_minimum_nights', 'maximum_minimum_nights'\n",
    "        , 'minimum_maximum_nights', 'maximum_maximum_nights', 'minimum_nights_avg_ntm'\n",
    "        , 'maximum_nights_avg_ntm', 'calendar_updated', 'has_availability', 'availability_30'\n",
    "        , 'availability_60', 'availability_90', 'availability_365', 'calendar_last_scraped'\n",
    "        , 'instant_bookable', 'is_business_travel_ready', 'cancellation_policy'\n",
    "        , 'require_guest_profile_picture', 'require_guest_phone_verification'\n",
    "        # reviews\n",
    "        , 'number_of_reviews', 'number_of_reviews_ltm', 'first_review','last_review'\n",
    "        , 'review_scores_rating', 'review_scores_accuracy', 'review_scores_cleanliness'\n",
    "        , 'review_scores_checkin', 'review_scores_communication', 'review_scores_location'\n",
    "        , 'review_scores_value', 'reviews_per_month'\n",
    "        # prices\n",
    "        ,'price', 'weekly_price', 'monthly_price', 'security_deposit', 'cleaning_fee'\n",
    "        , 'guests_included', 'extra_people'\n",
    "        # location\n",
    "        , 'street','neighbourhood_cleansed', 'city', 'state'\n",
    "        , 'zipcode', 'market', 'smart_location', 'country', 'latitude', 'longitude'\n",
    "        , 'is_location_exact'\n",
    "        # host\n",
    "        , 'host_id', 'host_since', 'host_neighbourhood', 'host_response_time'\n",
    "        , 'host_response_rate', 'host_acceptance_rate', 'host_is_superhost'\n",
    "        , 'calculated_host_listings_count', 'calculated_host_listings_count_entire_homes'\n",
    "        , 'calculated_host_listings_count_private_rooms'\n",
    "        , 'calculated_host_listings_count_shared_rooms'\n",
    "        , 'host_verifications', 'host_has_profile_pic', 'host_identity_verified'\n",
    "        ]\n",
    "\n",
    "path = r'data\\20'\n",
    "all_files = glob.glob(os.path.join(path,\"listings*.csv\"))\n",
    "\n",
    "ls_file = []\n",
    "for file in all_files:\n",
    "    df = pd.read_csv(file,header=0,low_memory=False)\n",
    "    df = df[cols]\n",
    "    ls_file.append(df)\n",
    "\n",
    "df_list = pd.concat(ls_file,axis=0,ignore_index=True)"
   ]
  },
  {
   "cell_type": "code",
   "execution_count": 4,
   "metadata": {},
   "outputs": [
    {
     "name": "stdout",
     "output_type": "stream",
     "text": [
      "<class 'pandas.core.frame.DataFrame'>\n",
      "RangeIndex: 148835 entries, 0 to 148834\n",
      "Data columns (total 75 columns):\n",
      " #   Column                            Non-Null Count   Dtype  \n",
      "---  ------                            --------------   -----  \n",
      " 0   ID                                148835 non-null  int64  \n",
      " 1   SCRAPED_DATE                      148835 non-null  object \n",
      " 2   PROPERTY_TYPE                     148835 non-null  object \n",
      " 3   ROOM_TYPE                         148835 non-null  object \n",
      " 4   ACCOMMODATES                      148835 non-null  int64  \n",
      " 5   BATHROOMS                         148718 non-null  float64\n",
      " 6   BEDROOMS                          148606 non-null  float64\n",
      " 7   BEDS                              147612 non-null  float64\n",
      " 8   BED_TYPE                          148835 non-null  object \n",
      " 9   AMENITIES                         148835 non-null  object \n",
      " 10  SQUARE_FEET                       1044 non-null    float64\n",
      " 11  MINIMUM_NIGHTS                    148835 non-null  int64  \n",
      " 12  MAXIMUM_NIGHTS                    148835 non-null  int64  \n",
      " 13  MINIMUM_MINIMUM_NIGHTS            148835 non-null  int64  \n",
      " 14  MAXIMUM_MINIMUM_NIGHTS            148835 non-null  int64  \n",
      " 15  MINIMUM_MAXIMUM_NIGHTS            148835 non-null  int64  \n",
      " 16  MAXIMUM_MAXIMUM_NIGHTS            148835 non-null  int64  \n",
      " 17  MINIMUM_NIGHTS_AVG_NTM            148835 non-null  float64\n",
      " 18  MAXIMUM_NIGHTS_AVG_NTM            148835 non-null  float64\n",
      " 19  CALENDAR_UPDATED                  148835 non-null  object \n",
      " 20  HAS_AVAILABILITY                  148835 non-null  object \n",
      " 21  AVAILABILITY_30                   148835 non-null  int64  \n",
      " 22  AVAILABILITY_60                   148835 non-null  int64  \n",
      " 23  AVAILABILITY_90                   148835 non-null  int64  \n",
      " 24  AVAILABILITY_365                  148835 non-null  int64  \n",
      " 25  CALENDAR_LAST_SCRAPED             148835 non-null  object \n",
      " 26  INSTANT_BOOKABLE                  148835 non-null  int64  \n",
      " 27  IS_BUSINESS_TRAVEL_READY          148835 non-null  int64  \n",
      " 28  CANCELLATION_POLICY               148835 non-null  object \n",
      " 29  REQUIRE_GUEST_PROFILE_PICTURE     148835 non-null  int64  \n",
      " 30  REQUIRE_GUEST_PHONE_VERIFICATION  148835 non-null  int64  \n",
      " 31  NUMBER_OF_REVIEWS                 148835 non-null  int64  \n",
      " 32  NUMBER_OF_REVIEWS_LTM             148835 non-null  int64  \n",
      " 33  FIRST_REVIEW                      118283 non-null  object \n",
      " 34  LAST_REVIEW                       118283 non-null  object \n",
      " 35  REVIEW_SCORES_RATING              115283 non-null  float64\n",
      " 36  REVIEW_SCORES_ACCURACY            115171 non-null  float64\n",
      " 37  REVIEW_SCORES_CLEANLINESS         115204 non-null  float64\n",
      " 38  REVIEW_SCORES_CHECKIN             115123 non-null  float64\n",
      " 39  REVIEW_SCORES_COMMUNICATION       115189 non-null  float64\n",
      " 40  REVIEW_SCORES_LOCATION            115129 non-null  float64\n",
      " 41  REVIEW_SCORES_VALUE               115119 non-null  float64\n",
      " 42  REVIEWS_PER_MONTH                 118283 non-null  float64\n",
      " 43  PRICE                             148835 non-null  object \n",
      " 44  WEEKLY_PRICE                      11096 non-null   object \n",
      " 45  MONTHLY_PRICE                     8245 non-null    object \n",
      " 46  SECURITY_DEPOSIT                  104473 non-null  object \n",
      " 47  CLEANING_FEE                      116903 non-null  object \n",
      " 48  GUESTS_INCLUDED                   148835 non-null  int64  \n",
      " 49  EXTRA_PEOPLE                      148835 non-null  object \n",
      " 50  STREET                            148835 non-null  object \n",
      " 51  NEIGHBOURHOOD_CLEANSED            148835 non-null  object \n",
      " 52  CITY                              148739 non-null  object \n",
      " 53  STATE                             148261 non-null  object \n",
      " 54  ZIPCODE                           148238 non-null  object \n",
      " 55  MARKET                            148669 non-null  object \n",
      " 56  SMART_LOCATION                    148835 non-null  object \n",
      " 57  COUNTRY                           148835 non-null  object \n",
      " 58  LATITUDE                          148835 non-null  float64\n",
      " 59  LONGITUDE                         148835 non-null  float64\n",
      " 60  IS_LOCATION_EXACT                 148835 non-null  int64  \n",
      " 61  HOST_ID                           148835 non-null  int64  \n",
      " 62  HOST_SINCE                        148751 non-null  object \n",
      " 63  HOST_NEIGHBOURHOOD                94904 non-null   object \n",
      " 64  HOST_RESPONSE_TIME                99604 non-null   object \n",
      " 65  HOST_RESPONSE_RATE                99604 non-null   float64\n",
      " 66  HOST_ACCEPTANCE_RATE              93013 non-null   float64\n",
      " 67  HOST_IS_SUPERHOST                 148751 non-null  float64\n",
      " 68  HOST_LISTINGS_COUNT               148835 non-null  int64  \n",
      " 69  HOST_ENTIRE_HOMES                 148835 non-null  int64  \n",
      " 70  HOST_PRIVATE_ROOMS                148835 non-null  int64  \n",
      " 71  HOST_SHARED_ROOMS                 148835 non-null  int64  \n",
      " 72  HOST_VERIFICATIONS                148835 non-null  object \n",
      " 73  HOST_HAS_PROFILE_PIC              148751 non-null  float64\n",
      " 74  HOST_IDENTITY_VERIFIED            148751 non-null  float64\n",
      "dtypes: float64(21), int64(25), object(29)\n",
      "memory usage: 85.2+ MB\n"
     ]
    }
   ],
   "source": [
    "df_clean = cleanse_data(df_list)\n",
    "df_clean.info()"
   ]
  },
  {
   "cell_type": "code",
   "execution_count": null,
   "outputs": [],
   "source": [
    "engine = connect_my_db('secrets/db_string')"
   ],
   "metadata": {
    "collapsed": false,
    "pycharm": {
     "name": "#%%\n"
    }
   }
  },
  {
   "cell_type": "code",
   "execution_count": 166,
   "metadata": {},
   "outputs": [
    {
     "data": {
      "text/plain": [
       "85.58639979362488"
      ]
     },
     "execution_count": 166,
     "metadata": {},
     "output_type": "execute_result"
    }
   ],
   "source": [
    "fs_upload(engine,df_ls,'FS_LIST')"
   ]
  },
  {
   "cell_type": "code",
   "execution_count": 167,
   "metadata": {},
   "outputs": [
    {
     "data": {
      "text/plain": [
       "73.12233901023865"
      ]
     },
     "execution_count": 167,
     "metadata": {},
     "output_type": "execute_result"
    }
   ],
   "source": [
    "fs_upload(engine,df_host,'FS_HOST')"
   ]
  },
  {
   "cell_type": "code",
   "execution_count": 168,
   "metadata": {},
   "outputs": [
    {
     "data": {
      "text/plain": [
       "106.92497611045837"
      ]
     },
     "execution_count": 168,
     "metadata": {},
     "output_type": "execute_result"
    }
   ],
   "source": [
    "fs_upload(engine,df_review,'FS_REVIEW')"
   ]
  },
  {
   "cell_type": "code",
   "execution_count": 169,
   "metadata": {},
   "outputs": [
    {
     "data": {
      "text/plain": [
       "81.0525414943695"
      ]
     },
     "execution_count": 169,
     "metadata": {},
     "output_type": "execute_result"
    }
   ],
   "source": [
    "fs_upload(engine,df_location,'FS_LOCATION_RAW')"
   ]
  },
  {
   "cell_type": "code",
   "execution_count": null,
   "metadata": {},
   "outputs": [],
   "source": [
    "# data cleaning\n",
    "\n",
    "\n",
    "# feature store\n",
    "\n",
    "#todo: experiment on keep more values\n",
    "df_list.PROPERTY_TYPE=df_list.PROPERTY_TYPE.replace(['loft','guest suite','condominium'],'apartment')\n",
    "df_list.PROPERTY_TYPE=df_list.PROPERTY_TYPE.replace(\n",
    "    ['townhouse','guesthouse','cottage','bungalow','cabin','tiny house','nature lodge','villa','earth house','castle', \n",
    "     'treehouse', 'chalet','lighthouse'],'house')\n",
    "df_list.PROPERTY_TYPE=df_list.PROPERTY_TYPE.replace(\n",
    "    ['farm stay','bed and breakfast','barn','train', 'boat', 'camper/rv','tent','hut','kezhan (china)',\n",
    "     'casa particular (cuba)','campsite', 'dome house', 'tipi'],'other')\n",
    "df_list.PROPERTY_TYPE=df_list.PROPERTY_TYPE.replace(\n",
    "    ['boutique hotel','serviced apartment','hotel','hostel','aparthotel'],'serviced')\n",
    "\n",
    "# create luxury_flag\n",
    "df_list['LUXURY_FLAG']= np.where(df_list.CANCELLATION_POLICY.str.contains('luxury'),1,0)\n"
   ]
  },
  {
   "cell_type": "code",
   "execution_count": 159,
   "metadata": {
    "pycharm": {
     "name": "#%%\n"
    }
   },
   "outputs": [
    {
     "name": "stdout",
     "output_type": "stream",
     "text": [
      "<class 'pandas.core.frame.DataFrame'>\n",
      "RangeIndex: 148835 entries, 0 to 148834\n",
      "Data columns (total 23 columns):\n",
      " #   Column                            Non-Null Count   Dtype  \n",
      "---  ------                            --------------   -----  \n",
      " 0   ID                                148835 non-null  int64  \n",
      " 1   HOST_ID                           148835 non-null  int64  \n",
      " 2   LAST_SCRAPED                      148835 non-null  object \n",
      " 3   PROPERTY_TYPE                     148835 non-null  object \n",
      " 4   ROOM_TYPE                         148835 non-null  object \n",
      " 5   ACCOMMODATES                      148835 non-null  int64  \n",
      " 6   BATHROOMS                         148718 non-null  float64\n",
      " 7   BEDROOMS                          148606 non-null  float64\n",
      " 8   BEDS                              147612 non-null  float64\n",
      " 9   BED_TYPE                          148835 non-null  object \n",
      " 10  AMENITIES                         148835 non-null  object \n",
      " 11  SQUARE_FEET                       1044 non-null    float64\n",
      " 12  INSTANT_BOOKABLE                  148835 non-null  int64  \n",
      " 13  IS_BUSINESS_TRAVEL_READY          148835 non-null  object \n",
      " 14  GUESTS_INCLUDED                   148835 non-null  int64  \n",
      " 15  CANCELLATION_POLICY               148835 non-null  object \n",
      " 16  REQUIRE_GUEST_PROFILE_PICTURE     148835 non-null  int64  \n",
      " 17  REQUIRE_GUEST_PHONE_VERIFICATION  148835 non-null  int64  \n",
      " 18  LUXURY_FLAG                       148835 non-null  int32  \n",
      " 19  NEIGHBOURHOOD_CLEANSED            148835 non-null  object \n",
      " 20  LATITUDE                          148835 non-null  float64\n",
      " 21  LONGITUDE                         148835 non-null  float64\n",
      " 22  IS_LOCATION_EXACT                 148835 non-null  int64  \n",
      "dtypes: float64(6), int32(1), int64(8), object(8)\n",
      "memory usage: 25.5+ MB\n"
     ]
    }
   ],
   "source": [
    "# feature store\n",
    "\n",
    "# FS_LISTING\n",
    "df_ls = df_list[['ID','HOST_ID','LAST_SCRAPED',\n",
    "                 'PROPERTY_TYPE', 'ROOM_TYPE', 'ACCOMMODATES',\n",
    "       'BATHROOMS', 'BEDROOMS', 'BEDS', 'BED_TYPE', 'AMENITIES', 'SQUARE_FEET',\n",
    "       'INSTANT_BOOKABLE', 'IS_BUSINESS_TRAVEL_READY','GUESTS_INCLUDED',\n",
    "       'CANCELLATION_POLICY', 'REQUIRE_GUEST_PROFILE_PICTURE',\n",
    "       'REQUIRE_GUEST_PHONE_VERIFICATION',\n",
    "       'LUXURY_FLAG','NEIGHBOURHOOD_CLEANSED','LATITUDE', 'LONGITUDE',\n",
    "       'IS_LOCATION_EXACT',]]\n",
    "\n",
    "df_ls.info()"
   ]
  },
  {
   "cell_type": "code",
   "execution_count": 128,
   "metadata": {},
   "outputs": [
    {
     "name": "stdout",
     "output_type": "stream",
     "text": [
      "<class 'pandas.core.frame.DataFrame'>\n",
      "RangeIndex: 148835 entries, 0 to 148834\n",
      "Data columns (total 16 columns):\n",
      " #   Column                  Non-Null Count   Dtype  \n",
      "---  ------                  --------------   -----  \n",
      " 0   ID                      148835 non-null  int64  \n",
      " 1   LAST_SCRAPED            148835 non-null  object \n",
      " 2   HOST_ID                 148835 non-null  int64  \n",
      " 3   HOST_SINCE              148751 non-null  object \n",
      " 4   HOST_NEIGHBOURHOOD      94904 non-null   object \n",
      " 5   HOST_RESPONSE_TIME      99604 non-null   object \n",
      " 6   HOST_RESPONSE_RATE      99604 non-null   float64\n",
      " 7   HOST_ACCEPTANCE_RATE    93013 non-null   float64\n",
      " 8   HOST_IS_SUPERHOST       148751 non-null  float64\n",
      " 9   HOST_LISTINGS_COUNT     148835 non-null  int64  \n",
      " 10  HOST_ENTIRE_HOMES       148835 non-null  int64  \n",
      " 11  HOST_PRIVATE_ROOMS      148835 non-null  int64  \n",
      " 12  HOST_SHARED_ROOMS       148835 non-null  int64  \n",
      " 13  HOST_VERIFICATIONS      148835 non-null  object \n",
      " 14  HOST_HAS_PROFILE_PIC    148751 non-null  float64\n",
      " 15  HOST_IDENTITY_VERIFIED  148751 non-null  float64\n",
      "dtypes: float64(5), int64(6), object(5)\n",
      "memory usage: 18.2+ MB\n"
     ]
    }
   ],
   "source": [
    "# FS_HOST\n",
    "\n",
    "\n",
    "df_host = df_list[['ID', 'LAST_SCRAPED', 'HOST_ID', 'HOST_SINCE', 'HOST_NEIGHBOURHOOD',\n",
    "       'HOST_RESPONSE_TIME', 'HOST_RESPONSE_RATE', 'HOST_ACCEPTANCE_RATE',\n",
    "       'HOST_IS_SUPERHOST', 'HOST_LISTINGS_COUNT',\n",
    "       'HOST_ENTIRE_HOMES',\n",
    "       'HOST_PRIVATE_ROOMS',\n",
    "       'HOST_SHARED_ROOMS', 'HOST_VERIFICATIONS',\n",
    "       'HOST_HAS_PROFILE_PIC', 'HOST_IDENTITY_VERIFIED']]\n",
    "\n",
    "df_host.info()"
   ]
  },
  {
   "cell_type": "code",
   "execution_count": 144,
   "metadata": {},
   "outputs": [
    {
     "name": "stdout",
     "output_type": "stream",
     "text": [
      "<class 'pandas.core.frame.DataFrame'>\n",
      "RangeIndex: 148835 entries, 0 to 148834\n",
      "Data columns (total 13 columns):\n",
      " #   Column                       Non-Null Count   Dtype  \n",
      "---  ------                       --------------   -----  \n",
      " 0   ID                           148835 non-null  int64  \n",
      " 1   LAST_SCRAPED                 148835 non-null  object \n",
      " 2   NUMBER_OF_REVIEWS            148835 non-null  int64  \n",
      " 3   FIRST_REVIEW                 118283 non-null  object \n",
      " 4   LAST_REVIEW                  118283 non-null  object \n",
      " 5   REVIEW_SCORES_RATING         115283 non-null  float64\n",
      " 6   REVIEW_SCORES_ACCURACY       115171 non-null  float64\n",
      " 7   REVIEW_SCORES_CLEANLINESS    115204 non-null  float64\n",
      " 8   REVIEW_SCORES_CHECKIN        115123 non-null  float64\n",
      " 9   REVIEW_SCORES_COMMUNICATION  115189 non-null  float64\n",
      " 10  REVIEW_SCORES_LOCATION       115129 non-null  float64\n",
      " 11  REVIEW_SCORES_VALUE          115119 non-null  float64\n",
      " 12  REVIEWS_PER_MONTH            118283 non-null  float64\n",
      "dtypes: float64(8), int64(2), object(3)\n",
      "memory usage: 14.8+ MB\n"
     ]
    }
   ],
   "source": [
    "# fs reviews\n",
    "\n",
    "df_review = df_list[['ID', 'LAST_SCRAPED','NUMBER_OF_REVIEWS',\n",
    "                     'FIRST_REVIEW',\n",
    "       'LAST_REVIEW', 'REVIEW_SCORES_RATING', 'REVIEW_SCORES_ACCURACY',\n",
    "       'REVIEW_SCORES_CLEANLINESS', 'REVIEW_SCORES_CHECKIN',\n",
    "       'REVIEW_SCORES_COMMUNICATION', 'REVIEW_SCORES_LOCATION',\n",
    "       'REVIEW_SCORES_VALUE','REVIEWS_PER_MONTH']]\n",
    "\n",
    "df_review.info()"
   ]
  },
  {
   "cell_type": "code",
   "execution_count": 170,
   "metadata": {},
   "outputs": [
    {
     "ename": "KeyError",
     "evalue": "\"['SCRAPED_DATE'] not in index\"",
     "output_type": "error",
     "traceback": [
      "\u001B[1;31m---------------------------------------------------------------------------\u001B[0m",
      "\u001B[1;31mKeyError\u001B[0m                                  Traceback (most recent call last)",
      "\u001B[1;32m<ipython-input-170-fee374efb622>\u001B[0m in \u001B[0;36m<module>\u001B[1;34m\u001B[0m\n\u001B[0;32m      3\u001B[0m df_location = df_list[['ID', 'SCRAPED_DATE','STREET','NEIGHBOURHOOD_CLEANSED','CITY', 'STATE', 'ZIPCODE', 'MARKET',\n\u001B[0;32m      4\u001B[0m        \u001B[1;34m'SMART_LOCATION'\u001B[0m\u001B[1;33m,\u001B[0m \u001B[1;34m'COUNTRY'\u001B[0m\u001B[1;33m,\u001B[0m \u001B[1;34m'LATITUDE'\u001B[0m\u001B[1;33m,\u001B[0m \u001B[1;34m'LONGITUDE'\u001B[0m\u001B[1;33m,\u001B[0m\u001B[1;33m\u001B[0m\u001B[1;33m\u001B[0m\u001B[0m\n\u001B[1;32m----> 5\u001B[1;33m        'IS_LOCATION_EXACT']]\n\u001B[0m",
      "\u001B[1;32m~\\Anaconda3\\lib\\site-packages\\pandas\\core\\frame.py\u001B[0m in \u001B[0;36m__getitem__\u001B[1;34m(self, key)\u001B[0m\n\u001B[0;32m   2903\u001B[0m             \u001B[1;32mif\u001B[0m \u001B[0mis_iterator\u001B[0m\u001B[1;33m(\u001B[0m\u001B[0mkey\u001B[0m\u001B[1;33m)\u001B[0m\u001B[1;33m:\u001B[0m\u001B[1;33m\u001B[0m\u001B[1;33m\u001B[0m\u001B[0m\n\u001B[0;32m   2904\u001B[0m                 \u001B[0mkey\u001B[0m \u001B[1;33m=\u001B[0m \u001B[0mlist\u001B[0m\u001B[1;33m(\u001B[0m\u001B[0mkey\u001B[0m\u001B[1;33m)\u001B[0m\u001B[1;33m\u001B[0m\u001B[1;33m\u001B[0m\u001B[0m\n\u001B[1;32m-> 2905\u001B[1;33m             \u001B[0mindexer\u001B[0m \u001B[1;33m=\u001B[0m \u001B[0mself\u001B[0m\u001B[1;33m.\u001B[0m\u001B[0mloc\u001B[0m\u001B[1;33m.\u001B[0m\u001B[0m_get_listlike_indexer\u001B[0m\u001B[1;33m(\u001B[0m\u001B[0mkey\u001B[0m\u001B[1;33m,\u001B[0m \u001B[0maxis\u001B[0m\u001B[1;33m=\u001B[0m\u001B[1;36m1\u001B[0m\u001B[1;33m,\u001B[0m \u001B[0mraise_missing\u001B[0m\u001B[1;33m=\u001B[0m\u001B[1;32mTrue\u001B[0m\u001B[1;33m)\u001B[0m\u001B[1;33m[\u001B[0m\u001B[1;36m1\u001B[0m\u001B[1;33m]\u001B[0m\u001B[1;33m\u001B[0m\u001B[1;33m\u001B[0m\u001B[0m\n\u001B[0m\u001B[0;32m   2906\u001B[0m \u001B[1;33m\u001B[0m\u001B[0m\n\u001B[0;32m   2907\u001B[0m         \u001B[1;31m# take() does not accept boolean indexers\u001B[0m\u001B[1;33m\u001B[0m\u001B[1;33m\u001B[0m\u001B[1;33m\u001B[0m\u001B[0m\n",
      "\u001B[1;32m~\\Anaconda3\\lib\\site-packages\\pandas\\core\\indexing.py\u001B[0m in \u001B[0;36m_get_listlike_indexer\u001B[1;34m(self, key, axis, raise_missing)\u001B[0m\n\u001B[0;32m   1252\u001B[0m             \u001B[0mkeyarr\u001B[0m\u001B[1;33m,\u001B[0m \u001B[0mindexer\u001B[0m\u001B[1;33m,\u001B[0m \u001B[0mnew_indexer\u001B[0m \u001B[1;33m=\u001B[0m \u001B[0max\u001B[0m\u001B[1;33m.\u001B[0m\u001B[0m_reindex_non_unique\u001B[0m\u001B[1;33m(\u001B[0m\u001B[0mkeyarr\u001B[0m\u001B[1;33m)\u001B[0m\u001B[1;33m\u001B[0m\u001B[1;33m\u001B[0m\u001B[0m\n\u001B[0;32m   1253\u001B[0m \u001B[1;33m\u001B[0m\u001B[0m\n\u001B[1;32m-> 1254\u001B[1;33m         \u001B[0mself\u001B[0m\u001B[1;33m.\u001B[0m\u001B[0m_validate_read_indexer\u001B[0m\u001B[1;33m(\u001B[0m\u001B[0mkeyarr\u001B[0m\u001B[1;33m,\u001B[0m \u001B[0mindexer\u001B[0m\u001B[1;33m,\u001B[0m \u001B[0maxis\u001B[0m\u001B[1;33m,\u001B[0m \u001B[0mraise_missing\u001B[0m\u001B[1;33m=\u001B[0m\u001B[0mraise_missing\u001B[0m\u001B[1;33m)\u001B[0m\u001B[1;33m\u001B[0m\u001B[1;33m\u001B[0m\u001B[0m\n\u001B[0m\u001B[0;32m   1255\u001B[0m         \u001B[1;32mreturn\u001B[0m \u001B[0mkeyarr\u001B[0m\u001B[1;33m,\u001B[0m \u001B[0mindexer\u001B[0m\u001B[1;33m\u001B[0m\u001B[1;33m\u001B[0m\u001B[0m\n\u001B[0;32m   1256\u001B[0m \u001B[1;33m\u001B[0m\u001B[0m\n",
      "\u001B[1;32m~\\Anaconda3\\lib\\site-packages\\pandas\\core\\indexing.py\u001B[0m in \u001B[0;36m_validate_read_indexer\u001B[1;34m(self, key, indexer, axis, raise_missing)\u001B[0m\n\u001B[0;32m   1302\u001B[0m             \u001B[1;32mif\u001B[0m \u001B[0mraise_missing\u001B[0m\u001B[1;33m:\u001B[0m\u001B[1;33m\u001B[0m\u001B[1;33m\u001B[0m\u001B[0m\n\u001B[0;32m   1303\u001B[0m                 \u001B[0mnot_found\u001B[0m \u001B[1;33m=\u001B[0m \u001B[0mlist\u001B[0m\u001B[1;33m(\u001B[0m\u001B[0mset\u001B[0m\u001B[1;33m(\u001B[0m\u001B[0mkey\u001B[0m\u001B[1;33m)\u001B[0m \u001B[1;33m-\u001B[0m \u001B[0mset\u001B[0m\u001B[1;33m(\u001B[0m\u001B[0max\u001B[0m\u001B[1;33m)\u001B[0m\u001B[1;33m)\u001B[0m\u001B[1;33m\u001B[0m\u001B[1;33m\u001B[0m\u001B[0m\n\u001B[1;32m-> 1304\u001B[1;33m                 \u001B[1;32mraise\u001B[0m \u001B[0mKeyError\u001B[0m\u001B[1;33m(\u001B[0m\u001B[1;34mf\"{not_found} not in index\"\u001B[0m\u001B[1;33m)\u001B[0m\u001B[1;33m\u001B[0m\u001B[1;33m\u001B[0m\u001B[0m\n\u001B[0m\u001B[0;32m   1305\u001B[0m \u001B[1;33m\u001B[0m\u001B[0m\n\u001B[0;32m   1306\u001B[0m             \u001B[1;31m# we skip the warning on Categorical\u001B[0m\u001B[1;33m\u001B[0m\u001B[1;33m\u001B[0m\u001B[1;33m\u001B[0m\u001B[0m\n",
      "\u001B[1;31mKeyError\u001B[0m: \"['SCRAPED_DATE'] not in index\""
     ]
    }
   ],
   "source": [
    "# fs location\n",
    "\n",
    "df_location = df_list[['ID', 'SCRAPED_DATE','STREET','NEIGHBOURHOOD_CLEANSED','CITY', 'STATE', 'ZIPCODE', 'MARKET',\n",
    "       'SMART_LOCATION', 'COUNTRY', 'LATITUDE', 'LONGITUDE',\n",
    "       'IS_LOCATION_EXACT']]"
   ]
  },
  {
   "cell_type": "code",
   "execution_count": 165,
   "metadata": {},
   "outputs": [
    {
     "name": "stdout",
     "output_type": "stream",
     "text": [
      "<class 'pandas.core.frame.DataFrame'>\n",
      "RangeIndex: 148835 entries, 0 to 148834\n",
      "Data columns (total 11 columns):\n",
      " #   Column                  Non-Null Count   Dtype  \n",
      "---  ------                  --------------   -----  \n",
      " 0   STREET                  148835 non-null  object \n",
      " 1   NEIGHBOURHOOD_CLEANSED  148835 non-null  object \n",
      " 2   CITY                    148739 non-null  object \n",
      " 3   STATE                   148261 non-null  object \n",
      " 4   ZIPCODE                 148238 non-null  object \n",
      " 5   MARKET                  148669 non-null  object \n",
      " 6   SMART_LOCATION          148835 non-null  object \n",
      " 7   COUNTRY                 148835 non-null  object \n",
      " 8   LATITUDE                148835 non-null  float64\n",
      " 9   LONGITUDE               148835 non-null  float64\n",
      " 10  IS_LOCATION_EXACT       148835 non-null  int64  \n",
      "dtypes: float64(2), int64(1), object(8)\n",
      "memory usage: 12.5+ MB\n"
     ]
    }
   ],
   "source": [
    "df_location.info()"
   ]
  },
  {
   "cell_type": "code",
   "execution_count": null,
   "metadata": {},
   "outputs": [],
   "source": []
  },
  {
   "cell_type": "code",
   "execution_count": 129,
   "metadata": {},
   "outputs": [
    {
     "data": {
      "text/plain": [
       "Index(['ID', 'LAST_SCRAPED', 'HOST_ID', 'HOST_SINCE', 'HOST_NEIGHBOURHOOD',\n",
       "       'HOST_RESPONSE_TIME', 'HOST_RESPONSE_RATE', 'HOST_ACCEPTANCE_RATE',\n",
       "       'HOST_IS_SUPERHOST', 'HOST_LISTINGS_COUNT', 'HOST_ENTIRE_HOMES',\n",
       "       'HOST_PRIVATE_ROOMS', 'HOST_SHARED_ROOMS', 'HOST_VERIFICATIONS',\n",
       "       'HOST_HAS_PROFILE_PIC', 'HOST_IDENTITY_VERIFIED', 'STREET',\n",
       "       'NEIGHBOURHOOD_CLEANSED', 'CITY', 'STATE', 'ZIPCODE', 'MARKET',\n",
       "       'SMART_LOCATION', 'COUNTRY', 'LATITUDE', 'LONGITUDE',\n",
       "       'IS_LOCATION_EXACT', 'PROPERTY_TYPE', 'ROOM_TYPE', 'ACCOMMODATES',\n",
       "       'BATHROOMS', 'BEDROOMS', 'BEDS', 'BED_TYPE', 'AMENITIES', 'SQUARE_FEET',\n",
       "       'PRICE', 'WEEKLY_PRICE', 'MONTHLY_PRICE', 'SECURITY_DEPOSIT',\n",
       "       'CLEANING_FEE', 'GUESTS_INCLUDED', 'EXTRA_PEOPLE', 'MINIMUM_NIGHTS',\n",
       "       'MAXIMUM_NIGHTS', 'MINIMUM_MINIMUM_NIGHTS', 'MAXIMUM_MINIMUM_NIGHTS',\n",
       "       'MINIMUM_MAXIMUM_NIGHTS', 'MAXIMUM_MAXIMUM_NIGHTS',\n",
       "       'MINIMUM_NIGHTS_AVG_NTM', 'MAXIMUM_NIGHTS_AVG_NTM', 'CALENDAR_UPDATED',\n",
       "       'HAS_AVAILABILITY', 'AVAILABILITY_30', 'AVAILABILITY_60',\n",
       "       'AVAILABILITY_90', 'AVAILABILITY_365', 'CALENDAR_LAST_SCRAPED',\n",
       "       'NUMBER_OF_REVIEWS', 'NUMBER_OF_REVIEWS_LTM', 'FIRST_REVIEW',\n",
       "       'LAST_REVIEW', 'REVIEW_SCORES_RATING', 'REVIEW_SCORES_ACCURACY',\n",
       "       'REVIEW_SCORES_CLEANLINESS', 'REVIEW_SCORES_CHECKIN',\n",
       "       'REVIEW_SCORES_COMMUNICATION', 'REVIEW_SCORES_LOCATION',\n",
       "       'REVIEW_SCORES_VALUE', 'INSTANT_BOOKABLE', 'IS_BUSINESS_TRAVEL_READY',\n",
       "       'CANCELLATION_POLICY', 'REQUIRE_GUEST_PROFILE_PICTURE',\n",
       "       'REQUIRE_GUEST_PHONE_VERIFICATION', 'REVIEWS_PER_MONTH',\n",
       "       'LUXURY_FLAG '],\n",
       "      dtype='object')"
      ]
     },
     "execution_count": 129,
     "metadata": {},
     "output_type": "execute_result"
    }
   ],
   "source": [
    "df_list.columns"
   ]
  },
  {
   "cell_type": "code",
   "execution_count": null,
   "metadata": {},
   "outputs": [],
   "source": [
    "# upload FS_LIST_RAW\n",
    "\n",
    "fs_upload(engine,df_list,'FS_LIST_RAW')"
   ]
  },
  {
   "cell_type": "code",
   "execution_count": null,
   "metadata": {},
   "outputs": [],
   "source": [
    "# features for model\n",
    "\n",
    "col_list = ['id', 'last_scraped', 'host_since','host_neighbourhood',\n",
    "       'host_response_time', 'host_response_rate', 'host_acceptance_rate',\n",
    "       'host_is_superhost', 'calculated_host_listings_count',\n",
    "         'host_verifications','host_has_profile_pic', 'host_identity_verified', \n",
    "         'street','neighbourhood_cleansed',\n",
    "        'city', 'state', 'zipcode', 'market', 'country', 'latitude', 'longitude',\n",
    "       'property_type', 'room_type', 'accommodates',\n",
    "       'bathrooms', 'bedrooms', 'beds', 'bed_type', \n",
    "       'price', 'security_deposit',\n",
    "       'cleaning_fee', 'guests_included', 'extra_people', 'minimum_nights',\n",
    "       'maximum_nights', 'calendar_updated',\n",
    "       'number_of_reviews','number_of_reviews_ltm', 'first_review',\n",
    "       'last_review', 'review_scores_rating', 'review_scores_accuracy',\n",
    "       'review_scores_cleanliness', 'review_scores_checkin',\n",
    "       'review_scores_communication', 'review_scores_location',\n",
    "       'review_scores_value','instant_bookable', 'is_business_travel_ready',\n",
    "       'cancellation_policy', 'require_guest_profile_picture',\n",
    "       'require_guest_phone_verification', \n",
    "        'reviews_per_month']"
   ]
  },
  {
   "cell_type": "code",
   "execution_count": 41,
   "metadata": {},
   "outputs": [],
   "source": [
    "# calendar data\n",
    "\n",
    "# read files\n",
    "all_cal= glob.glob(os.path.join(path,\"calendar*.csv\"))\n",
    "\n",
    "ls_cal = []\n",
    "for file in all_cal:\n",
    "    df = pd.read_csv(file,header=0)\n",
    "    #df['SCRAPED_DATE'] = df.date.min()\n",
    "    ls_cal.append(df)\n",
    "\n",
    "    \n",
    "# for each monthly scrape, only keep the calendar data b/w the scraped date and the date of next scrape run\n",
    "ls_month = []\n",
    "num_cal = len(ls_cal)\n",
    "for i in range(num_cal):\n",
    "    if i < num_cal-1:\n",
    "        date_end = ls_cal[i+1].date.min()\n",
    "        df = ls_cal[i]\n",
    "        df = df[df.date < date_end]\n",
    "    else:\n",
    "        df = ls_cal[i]\n",
    "        date_start = pd.to_datetime(df.date.min()).date()\n",
    "        date_end = date_start+relativedelta(months=1)\n",
    "        df = df[df.date<str(date_end)]\n",
    "    ls_month.append(df)\n",
    "\n",
    "df_cal = pd.concat(ls_month,axis=0,ignore_index=True)\n",
    "\n",
    "\n",
    "# clean\n",
    "df_cal.columns = df_cal.columns.str.upper()\n",
    "\n",
    "df_cal['BOOKED'] = df_cal.AVAILABLE.replace({'t':0,'f':1})"
   ]
  },
  {
   "cell_type": "code",
   "execution_count": 29,
   "metadata": {
    "pycharm": {
     "name": "#%%\n"
    }
   },
   "outputs": [
    {
     "data": {
      "text/html": [
       "<div>\n",
       "<style scoped>\n",
       "    .dataframe tbody tr th:only-of-type {\n",
       "        vertical-align: middle;\n",
       "    }\n",
       "\n",
       "    .dataframe tbody tr th {\n",
       "        vertical-align: top;\n",
       "    }\n",
       "\n",
       "    .dataframe thead th {\n",
       "        text-align: right;\n",
       "    }\n",
       "</style>\n",
       "<table border=\"1\" class=\"dataframe\">\n",
       "  <thead>\n",
       "    <tr style=\"text-align: right;\">\n",
       "      <th></th>\n",
       "      <th>LISTING_ID</th>\n",
       "      <th>DATE</th>\n",
       "      <th>AVAILABLE</th>\n",
       "      <th>PRICE</th>\n",
       "      <th>ADJUSTED_PRICE</th>\n",
       "      <th>MINIMUM_NIGHTS</th>\n",
       "      <th>MAXIMUM_NIGHTS</th>\n",
       "      <th>BOOKED</th>\n",
       "    </tr>\n",
       "  </thead>\n",
       "  <tbody>\n",
       "    <tr>\n",
       "      <th>0</th>\n",
       "      <td>251965</td>\n",
       "      <td>2020-01-07</td>\n",
       "      <td>f</td>\n",
       "      <td>259.0</td>\n",
       "      <td>259.0</td>\n",
       "      <td>1.0</td>\n",
       "      <td>365.0</td>\n",
       "      <td>1</td>\n",
       "    </tr>\n",
       "    <tr>\n",
       "      <th>1</th>\n",
       "      <td>653384</td>\n",
       "      <td>2020-01-07</td>\n",
       "      <td>f</td>\n",
       "      <td>100.0</td>\n",
       "      <td>100.0</td>\n",
       "      <td>1.0</td>\n",
       "      <td>1125.0</td>\n",
       "      <td>1</td>\n",
       "    </tr>\n",
       "    <tr>\n",
       "      <th>2</th>\n",
       "      <td>653384</td>\n",
       "      <td>2020-01-08</td>\n",
       "      <td>f</td>\n",
       "      <td>100.0</td>\n",
       "      <td>100.0</td>\n",
       "      <td>1.0</td>\n",
       "      <td>1125.0</td>\n",
       "      <td>1</td>\n",
       "    </tr>\n",
       "    <tr>\n",
       "      <th>3</th>\n",
       "      <td>653384</td>\n",
       "      <td>2020-01-09</td>\n",
       "      <td>f</td>\n",
       "      <td>100.0</td>\n",
       "      <td>100.0</td>\n",
       "      <td>1.0</td>\n",
       "      <td>1125.0</td>\n",
       "      <td>1</td>\n",
       "    </tr>\n",
       "    <tr>\n",
       "      <th>4</th>\n",
       "      <td>653384</td>\n",
       "      <td>2020-01-10</td>\n",
       "      <td>f</td>\n",
       "      <td>100.0</td>\n",
       "      <td>100.0</td>\n",
       "      <td>1.0</td>\n",
       "      <td>1125.0</td>\n",
       "      <td>1</td>\n",
       "    </tr>\n",
       "  </tbody>\n",
       "</table>\n",
       "</div>"
      ],
      "text/plain": [
       "   LISTING_ID        DATE AVAILABLE  PRICE  ADJUSTED_PRICE  MINIMUM_NIGHTS  \\\n",
       "0      251965  2020-01-07         f  259.0           259.0             1.0   \n",
       "1      653384  2020-01-07         f  100.0           100.0             1.0   \n",
       "2      653384  2020-01-08         f  100.0           100.0             1.0   \n",
       "3      653384  2020-01-09         f  100.0           100.0             1.0   \n",
       "4      653384  2020-01-10         f  100.0           100.0             1.0   \n",
       "\n",
       "   MAXIMUM_NIGHTS  BOOKED  \n",
       "0           365.0       1  \n",
       "1          1125.0       1  \n",
       "2          1125.0       1  \n",
       "3          1125.0       1  \n",
       "4          1125.0       1  "
      ]
     },
     "execution_count": 29,
     "metadata": {},
     "output_type": "execute_result"
    }
   ],
   "source": [
    "df_cal.head()"
   ]
  },
  {
   "cell_type": "code",
   "execution_count": 43,
   "metadata": {},
   "outputs": [
    {
     "data": {
      "text/plain": [
       "(4555609, 9)"
      ]
     },
     "execution_count": 43,
     "metadata": {},
     "output_type": "execute_result"
    }
   ],
   "source": [
    "df_cal.shape"
   ]
  },
  {
   "cell_type": "code",
   "execution_count": 28,
   "metadata": {
    "pycharm": {
     "is_executing": true,
     "name": "#%%\n"
    }
   },
   "outputs": [
    {
     "data": {
      "text/plain": [
       "1143.5180366039276"
      ]
     },
     "execution_count": 28,
     "metadata": {},
     "output_type": "execute_result"
    }
   ],
   "source": [
    "# upload FS_CAL_RAW\n",
    "\n",
    "engine = connect_my_db('secrets/db_string')\n",
    "fs_upload(engine,df_cal,'FS_CAL_RAW')"
   ]
  },
  {
   "cell_type": "code",
   "execution_count": 48,
   "metadata": {
    "pycharm": {
     "name": "#%%\n"
    }
   },
   "outputs": [],
   "source": [
    "# aggregate to monthly\n",
    "\n",
    "df_cal['YEAR_MONTH'] = df_cal.DATE.str[:7]\n",
    "\n",
    "df_month = df_cal[['LISTING_ID','YEAR_MONTH','ADJUSTED_PRICE','BOOKED']].groupby(['LISTING_ID','YEAR_MONTH']).\\\n",
    "agg({'ADJUSTED_PRICE':'median','BOOKED':'sum'}).reset_index()\n",
    "\n",
    "# drop the half last month\n",
    "df_month=df_month[~(df_month.YEAR_MONTH=='2020-07')]"
   ]
  },
  {
   "cell_type": "code",
   "execution_count": 56,
   "metadata": {},
   "outputs": [
    {
     "data": {
      "text/html": [
       "<div>\n",
       "<style scoped>\n",
       "    .dataframe tbody tr th:only-of-type {\n",
       "        vertical-align: middle;\n",
       "    }\n",
       "\n",
       "    .dataframe tbody tr th {\n",
       "        vertical-align: top;\n",
       "    }\n",
       "\n",
       "    .dataframe thead th {\n",
       "        text-align: right;\n",
       "    }\n",
       "</style>\n",
       "<table border=\"1\" class=\"dataframe\">\n",
       "  <thead>\n",
       "    <tr style=\"text-align: right;\">\n",
       "      <th></th>\n",
       "      <th>LISTING_ID</th>\n",
       "      <th>YEAR_MONTH</th>\n",
       "      <th>ADJUSTED_PRICE</th>\n",
       "      <th>BOOKED</th>\n",
       "    </tr>\n",
       "  </thead>\n",
       "  <tbody>\n",
       "    <tr>\n",
       "      <th>0</th>\n",
       "      <td>9835</td>\n",
       "      <td>2020-01</td>\n",
       "      <td>60.0</td>\n",
       "      <td>0</td>\n",
       "    </tr>\n",
       "    <tr>\n",
       "      <th>1</th>\n",
       "      <td>9835</td>\n",
       "      <td>2020-02</td>\n",
       "      <td>60.0</td>\n",
       "      <td>0</td>\n",
       "    </tr>\n",
       "    <tr>\n",
       "      <th>2</th>\n",
       "      <td>9835</td>\n",
       "      <td>2020-03</td>\n",
       "      <td>60.0</td>\n",
       "      <td>0</td>\n",
       "    </tr>\n",
       "    <tr>\n",
       "      <th>3</th>\n",
       "      <td>9835</td>\n",
       "      <td>2020-04</td>\n",
       "      <td>60.0</td>\n",
       "      <td>0</td>\n",
       "    </tr>\n",
       "    <tr>\n",
       "      <th>4</th>\n",
       "      <td>9835</td>\n",
       "      <td>2020-05</td>\n",
       "      <td>60.0</td>\n",
       "      <td>0</td>\n",
       "    </tr>\n",
       "    <tr>\n",
       "      <th>...</th>\n",
       "      <td>...</td>\n",
       "      <td>...</td>\n",
       "      <td>...</td>\n",
       "      <td>...</td>\n",
       "    </tr>\n",
       "    <tr>\n",
       "      <th>180369</th>\n",
       "      <td>43733191</td>\n",
       "      <td>2020-06</td>\n",
       "      <td>320.0</td>\n",
       "      <td>11</td>\n",
       "    </tr>\n",
       "    <tr>\n",
       "      <th>180371</th>\n",
       "      <td>43744200</td>\n",
       "      <td>2020-06</td>\n",
       "      <td>55.0</td>\n",
       "      <td>15</td>\n",
       "    </tr>\n",
       "    <tr>\n",
       "      <th>180373</th>\n",
       "      <td>43746933</td>\n",
       "      <td>2020-06</td>\n",
       "      <td>140.0</td>\n",
       "      <td>7</td>\n",
       "    </tr>\n",
       "    <tr>\n",
       "      <th>180375</th>\n",
       "      <td>43748923</td>\n",
       "      <td>2020-06</td>\n",
       "      <td>79.0</td>\n",
       "      <td>19</td>\n",
       "    </tr>\n",
       "    <tr>\n",
       "      <th>180377</th>\n",
       "      <td>43749261</td>\n",
       "      <td>2020-06</td>\n",
       "      <td>74.0</td>\n",
       "      <td>19</td>\n",
       "    </tr>\n",
       "  </tbody>\n",
       "</table>\n",
       "<p>156932 rows × 4 columns</p>\n",
       "</div>"
      ],
      "text/plain": [
       "        LISTING_ID YEAR_MONTH  ADJUSTED_PRICE  BOOKED\n",
       "0             9835    2020-01            60.0       0\n",
       "1             9835    2020-02            60.0       0\n",
       "2             9835    2020-03            60.0       0\n",
       "3             9835    2020-04            60.0       0\n",
       "4             9835    2020-05            60.0       0\n",
       "...            ...        ...             ...     ...\n",
       "180369    43733191    2020-06           320.0      11\n",
       "180371    43744200    2020-06            55.0      15\n",
       "180373    43746933    2020-06           140.0       7\n",
       "180375    43748923    2020-06            79.0      19\n",
       "180377    43749261    2020-06            74.0      19\n",
       "\n",
       "[156932 rows x 4 columns]"
      ]
     },
     "execution_count": 56,
     "metadata": {},
     "output_type": "execute_result"
    }
   ],
   "source": [
    "df_month"
   ]
  },
  {
   "cell_type": "code",
   "execution_count": null,
   "metadata": {},
   "outputs": [],
   "source": [
    "# upload FS_CAL_MONTHLY\n",
    "\n",
    "upload_df(engine,df_month,'FS_CAL_MONTHLY')"
   ]
  },
  {
   "cell_type": "code",
   "execution_count": null,
   "metadata": {
    "pycharm": {
     "name": "#%%\n"
    }
   },
   "outputs": [],
   "source": [
    "fre=cal.listing_id.value_counts()"
   ]
  },
  {
   "cell_type": "code",
   "execution_count": null,
   "metadata": {
    "pycharm": {
     "name": "#%%\n"
    }
   },
   "outputs": [],
   "source": [
    "cal.available=cal.available.replace({'t':1,'f':0})\n",
    "cal.head()"
   ]
  },
  {
   "cell_type": "code",
   "execution_count": null,
   "metadata": {
    "pycharm": {
     "name": "#%%\n"
    }
   },
   "outputs": [],
   "source": [
    "cal.date.max()"
   ]
  },
  {
   "cell_type": "code",
   "execution_count": null,
   "metadata": {
    "pycharm": {
     "name": "#%%\n"
    }
   },
   "outputs": [],
   "source": [
    "cal[['listing_id','available']].groupby(['listing_id']).sum()"
   ]
  },
  {
   "cell_type": "code",
   "execution_count": null,
   "metadata": {
    "pycharm": {
     "name": "#%%\n"
    }
   },
   "outputs": [],
   "source": []
  },
  {
   "cell_type": "code",
   "execution_count": null,
   "metadata": {
    "pycharm": {
     "name": "#%%\n"
    }
   },
   "outputs": [],
   "source": [
    "fre.unique()"
   ]
  },
  {
   "cell_type": "code",
   "execution_count": 6,
   "metadata": {},
   "outputs": [],
   "source": [
    "fre.unique()"
   ]
  },
  {
   "cell_type": "code",
   "execution_count": 9,
   "metadata": {},
   "outputs": [
    {
     "data": {
      "text/html": [
       "<div>\n",
       "<style scoped>\n",
       "    .dataframe tbody tr th:only-of-type {\n",
       "        vertical-align: middle;\n",
       "    }\n",
       "\n",
       "    .dataframe tbody tr th {\n",
       "        vertical-align: top;\n",
       "    }\n",
       "\n",
       "    .dataframe thead th {\n",
       "        text-align: right;\n",
       "    }\n",
       "</style>\n",
       "<table border=\"1\" class=\"dataframe\">\n",
       "  <thead>\n",
       "    <tr style=\"text-align: right;\">\n",
       "      <th></th>\n",
       "      <th>listing_id</th>\n",
       "      <th>date</th>\n",
       "      <th>available</th>\n",
       "      <th>price</th>\n",
       "      <th>adjusted_price</th>\n",
       "      <th>minimum_nights</th>\n",
       "      <th>maximum_nights</th>\n",
       "    </tr>\n",
       "  </thead>\n",
       "  <tbody>\n",
       "    <tr>\n",
       "      <th>0</th>\n",
       "      <td>323280</td>\n",
       "      <td>2020-06-12</td>\n",
       "      <td>t</td>\n",
       "      <td>$67.00</td>\n",
       "      <td>$67.00</td>\n",
       "      <td>1.0</td>\n",
       "      <td>730365.0</td>\n",
       "    </tr>\n",
       "    <tr>\n",
       "      <th>1</th>\n",
       "      <td>315513</td>\n",
       "      <td>2020-06-12</td>\n",
       "      <td>f</td>\n",
       "      <td>$45.00</td>\n",
       "      <td>$45.00</td>\n",
       "      <td>1.0</td>\n",
       "      <td>1125.0</td>\n",
       "    </tr>\n",
       "    <tr>\n",
       "      <th>2</th>\n",
       "      <td>315513</td>\n",
       "      <td>2020-06-13</td>\n",
       "      <td>f</td>\n",
       "      <td>$45.00</td>\n",
       "      <td>$45.00</td>\n",
       "      <td>1.0</td>\n",
       "      <td>1125.0</td>\n",
       "    </tr>\n",
       "    <tr>\n",
       "      <th>3</th>\n",
       "      <td>315513</td>\n",
       "      <td>2020-06-14</td>\n",
       "      <td>f</td>\n",
       "      <td>$45.00</td>\n",
       "      <td>$45.00</td>\n",
       "      <td>1.0</td>\n",
       "      <td>1125.0</td>\n",
       "    </tr>\n",
       "    <tr>\n",
       "      <th>4</th>\n",
       "      <td>315513</td>\n",
       "      <td>2020-06-15</td>\n",
       "      <td>f</td>\n",
       "      <td>$45.00</td>\n",
       "      <td>$45.00</td>\n",
       "      <td>1.0</td>\n",
       "      <td>1125.0</td>\n",
       "    </tr>\n",
       "  </tbody>\n",
       "</table>\n",
       "</div>"
      ],
      "text/plain": [
       "   listing_id        date available   price adjusted_price  minimum_nights  \\\n",
       "0      323280  2020-06-12         t  $67.00         $67.00             1.0   \n",
       "1      315513  2020-06-12         f  $45.00         $45.00             1.0   \n",
       "2      315513  2020-06-13         f  $45.00         $45.00             1.0   \n",
       "3      315513  2020-06-14         f  $45.00         $45.00             1.0   \n",
       "4      315513  2020-06-15         f  $45.00         $45.00             1.0   \n",
       "\n",
       "   maximum_nights  \n",
       "0        730365.0  \n",
       "1          1125.0  \n",
       "2          1125.0  \n",
       "3          1125.0  \n",
       "4          1125.0  "
      ]
     },
     "execution_count": 9,
     "metadata": {},
     "output_type": "execute_result"
    }
   ],
   "source": [
    "cal.head()"
   ]
  },
  {
   "cell_type": "code",
   "execution_count": 10,
   "metadata": {},
   "outputs": [],
   "source": [
    "fre=cal.listing_id.value_counts()"
   ]
  },
  {
   "cell_type": "code",
   "execution_count": 19,
   "metadata": {},
   "outputs": [
    {
     "data": {
      "text/html": [
       "<div>\n",
       "<style scoped>\n",
       "    .dataframe tbody tr th:only-of-type {\n",
       "        vertical-align: middle;\n",
       "    }\n",
       "\n",
       "    .dataframe tbody tr th {\n",
       "        vertical-align: top;\n",
       "    }\n",
       "\n",
       "    .dataframe thead th {\n",
       "        text-align: right;\n",
       "    }\n",
       "</style>\n",
       "<table border=\"1\" class=\"dataframe\">\n",
       "  <thead>\n",
       "    <tr style=\"text-align: right;\">\n",
       "      <th></th>\n",
       "      <th>listing_id</th>\n",
       "      <th>date</th>\n",
       "      <th>available</th>\n",
       "      <th>price</th>\n",
       "      <th>adjusted_price</th>\n",
       "      <th>minimum_nights</th>\n",
       "      <th>maximum_nights</th>\n",
       "    </tr>\n",
       "  </thead>\n",
       "  <tbody>\n",
       "    <tr>\n",
       "      <th>0</th>\n",
       "      <td>323280</td>\n",
       "      <td>2020-06-12</td>\n",
       "      <td>1</td>\n",
       "      <td>$67.00</td>\n",
       "      <td>$67.00</td>\n",
       "      <td>1.0</td>\n",
       "      <td>730365.0</td>\n",
       "    </tr>\n",
       "    <tr>\n",
       "      <th>1</th>\n",
       "      <td>315513</td>\n",
       "      <td>2020-06-12</td>\n",
       "      <td>0</td>\n",
       "      <td>$45.00</td>\n",
       "      <td>$45.00</td>\n",
       "      <td>1.0</td>\n",
       "      <td>1125.0</td>\n",
       "    </tr>\n",
       "    <tr>\n",
       "      <th>2</th>\n",
       "      <td>315513</td>\n",
       "      <td>2020-06-13</td>\n",
       "      <td>0</td>\n",
       "      <td>$45.00</td>\n",
       "      <td>$45.00</td>\n",
       "      <td>1.0</td>\n",
       "      <td>1125.0</td>\n",
       "    </tr>\n",
       "    <tr>\n",
       "      <th>3</th>\n",
       "      <td>315513</td>\n",
       "      <td>2020-06-14</td>\n",
       "      <td>0</td>\n",
       "      <td>$45.00</td>\n",
       "      <td>$45.00</td>\n",
       "      <td>1.0</td>\n",
       "      <td>1125.0</td>\n",
       "    </tr>\n",
       "    <tr>\n",
       "      <th>4</th>\n",
       "      <td>315513</td>\n",
       "      <td>2020-06-15</td>\n",
       "      <td>0</td>\n",
       "      <td>$45.00</td>\n",
       "      <td>$45.00</td>\n",
       "      <td>1.0</td>\n",
       "      <td>1125.0</td>\n",
       "    </tr>\n",
       "  </tbody>\n",
       "</table>\n",
       "</div>"
      ],
      "text/plain": [
       "   listing_id        date  available   price adjusted_price  minimum_nights  \\\n",
       "0      323280  2020-06-12          1  $67.00         $67.00             1.0   \n",
       "1      315513  2020-06-12          0  $45.00         $45.00             1.0   \n",
       "2      315513  2020-06-13          0  $45.00         $45.00             1.0   \n",
       "3      315513  2020-06-14          0  $45.00         $45.00             1.0   \n",
       "4      315513  2020-06-15          0  $45.00         $45.00             1.0   \n",
       "\n",
       "   maximum_nights  \n",
       "0        730365.0  \n",
       "1          1125.0  \n",
       "2          1125.0  \n",
       "3          1125.0  \n",
       "4          1125.0  "
      ]
     },
     "execution_count": 19,
     "metadata": {},
     "output_type": "execute_result"
    }
   ],
   "source": [
    "cal.available=cal.available.replace({'t':1,'f':0})\n",
    "cal.head()"
   ]
  },
  {
   "cell_type": "code",
   "execution_count": 21,
   "metadata": {},
   "outputs": [
    {
     "data": {
      "text/plain": [
       "'2021-06-13'"
      ]
     },
     "execution_count": 21,
     "metadata": {},
     "output_type": "execute_result"
    }
   ],
   "source": [
    "cal.date.max()"
   ]
  },
  {
   "cell_type": "code",
   "execution_count": 20,
   "metadata": {},
   "outputs": [
    {
     "data": {
      "text/html": [
       "<div>\n",
       "<style scoped>\n",
       "    .dataframe tbody tr th:only-of-type {\n",
       "        vertical-align: middle;\n",
       "    }\n",
       "\n",
       "    .dataframe tbody tr th {\n",
       "        vertical-align: top;\n",
       "    }\n",
       "\n",
       "    .dataframe thead th {\n",
       "        text-align: right;\n",
       "    }\n",
       "</style>\n",
       "<table border=\"1\" class=\"dataframe\">\n",
       "  <thead>\n",
       "    <tr style=\"text-align: right;\">\n",
       "      <th></th>\n",
       "      <th>available</th>\n",
       "    </tr>\n",
       "    <tr>\n",
       "      <th>listing_id</th>\n",
       "      <th></th>\n",
       "    </tr>\n",
       "  </thead>\n",
       "  <tbody>\n",
       "    <tr>\n",
       "      <th>9835</th>\n",
       "      <td>365</td>\n",
       "    </tr>\n",
       "    <tr>\n",
       "      <th>10803</th>\n",
       "      <td>41</td>\n",
       "    </tr>\n",
       "    <tr>\n",
       "      <th>12936</th>\n",
       "      <td>0</td>\n",
       "    </tr>\n",
       "    <tr>\n",
       "      <th>38271</th>\n",
       "      <td>351</td>\n",
       "    </tr>\n",
       "    <tr>\n",
       "      <th>41836</th>\n",
       "      <td>0</td>\n",
       "    </tr>\n",
       "    <tr>\n",
       "      <th>...</th>\n",
       "      <td>...</td>\n",
       "    </tr>\n",
       "    <tr>\n",
       "      <th>43733191</th>\n",
       "      <td>79</td>\n",
       "    </tr>\n",
       "    <tr>\n",
       "      <th>43744200</th>\n",
       "      <td>4</td>\n",
       "    </tr>\n",
       "    <tr>\n",
       "      <th>43746933</th>\n",
       "      <td>173</td>\n",
       "    </tr>\n",
       "    <tr>\n",
       "      <th>43748923</th>\n",
       "      <td>159</td>\n",
       "    </tr>\n",
       "    <tr>\n",
       "      <th>43749261</th>\n",
       "      <td>161</td>\n",
       "    </tr>\n",
       "  </tbody>\n",
       "</table>\n",
       "<p>23447 rows × 1 columns</p>\n",
       "</div>"
      ],
      "text/plain": [
       "            available\n",
       "listing_id           \n",
       "9835              365\n",
       "10803              41\n",
       "12936               0\n",
       "38271             351\n",
       "41836               0\n",
       "...               ...\n",
       "43733191           79\n",
       "43744200            4\n",
       "43746933          173\n",
       "43748923          159\n",
       "43749261          161\n",
       "\n",
       "[23447 rows x 1 columns]"
      ]
     },
     "execution_count": 20,
     "metadata": {},
     "output_type": "execute_result"
    }
   ],
   "source": [
    "cal[['listing_id','available']].groupby(['listing_id']).sum()"
   ]
  },
  {
   "cell_type": "code",
   "execution_count": null,
   "metadata": {},
   "outputs": [],
   "source": []
  },
  {
   "cell_type": "code",
   "execution_count": 15,
   "metadata": {},
   "outputs": [
    {
     "data": {
      "text/plain": [
       "array([367, 366, 365], dtype=int64)"
      ]
     },
     "execution_count": 15,
     "metadata": {},
     "output_type": "execute_result"
    }
   ],
   "source": [
    "fre.unique()"
   ]
  }
 ],
 "metadata": {
  "kernelspec": {
   "display_name": "Python [conda env:root] *",
   "language": "python",
   "name": "conda-root-py"
  },
  "language_info": {
   "codemirror_mode": {
    "name": "ipython",
    "version": 3
   },
   "file_extension": ".py",
   "mimetype": "text/x-python",
   "name": "python",
   "nbconvert_exporter": "python",
   "pygments_lexer": "ipython3",
   "version": "3.7.3"
  }
 },
 "nbformat": 4,
 "nbformat_minor": 1
}